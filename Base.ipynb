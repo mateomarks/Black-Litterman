{
 "cells": [
  {
   "cell_type": "markdown",
   "metadata": {},
   "source": [
    "# Artificial Intelligence generated views on the Black-Litterman model"
   ]
  },
  {
   "cell_type": "markdown",
   "metadata": {},
   "source": [
    "## Import required packages"
   ]
  },
  {
   "cell_type": "code",
   "execution_count": 1,
   "metadata": {},
   "outputs": [],
   "source": [
    "import math\n",
    "import numpy as np\n",
    "import pandas as pd\n",
    "import matplotlib.pyplot as plt\n",
    "import seaborn as sns\n"
   ]
  },
  {
   "cell_type": "markdown",
   "metadata": {},
   "source": [
    "### Graph Formatting"
   ]
  },
  {
   "cell_type": "code",
   "execution_count": 44,
   "metadata": {},
   "outputs": [],
   "source": [
    "plt.style.use('seaborn')\n",
    "plt.rcParams['font.family'] = 'serif'\n",
    "%matplotlib inline\n",
    "\n",
    "SMALL_SIZE = 14; MEDIUM_SIZE = 16; BIGGER_SIZE = 18\n",
    "\n",
    "plt.rc('font', size = SMALL_SIZE)          # controls default text sizes\n",
    "plt.rc('axes', titlesize = SMALL_SIZE)     # fontsize of the axes title\n",
    "plt.rc('axes', labelsize = MEDIUM_SIZE)    # fontsize of the x and y labels\n",
    "plt.rc('xtick', labelsize = SMALL_SIZE)    # fontsize of the tick labels\n",
    "plt.rc('ytick', labelsize = SMALL_SIZE)    # fontsize of the tick labels\n",
    "plt.rc('legend', fontsize = SMALL_SIZE)    # legend fontsize\n",
    "plt.rc('figure', titlesize = BIGGER_SIZE)  # fontsize of the figure title\n",
    "plt.rc('figure', figsize = (10,6))         # size fo the graph"
   ]
  },
  {
   "cell_type": "markdown",
   "metadata": {},
   "source": [
    "## Import the data"
   ]
  },
  {
   "cell_type": "markdown",
   "metadata": {},
   "source": [
    "Categories construction: Assigns each NYSE, AMEX, and NASDAQ stock to an industry portfolio at the end of June of year t based on its four-digit SIC code at that time. (Uses Compustat SIC codes for the fiscal year ending in calendar year t-1. Whenever Compustat SIC codes are not available, uses CRSP SIC codes for June of year t.) Then computes returns from July of t to June of t+1\n",
    " \n",
    " 1. NoDur  Consumer Nondurables -- Food, Tobacco, Textiles, Apparel, Leather, Toys\n",
    " 2. Durbl  Consumer Durables -- Cars, TVs, Furniture, Household Appliances\n",
    " 3. Manuf  Manufacturing -- Machinery, Trucks, Planes, Chemicals, Off Furn, Paper, Com Printing\n",
    " 4. Enrgy  Oil, Gas, and Coal Extraction and Products\n",
    " 5. HiTec  Business Equipment -- Computers, Software, and Electronic Equipment\n",
    " 6. Telcm  Telephone and Television Transmission\n",
    " 7. Shops  Wholesale, Retail, and Some Services (Laundries, Repair Shops)\n",
    " 8. Hlth   Healthcare, Medical Equipment, and Drugs\n",
    " 9. Utils  Utilities\n",
    " 10. Other -- Other Mines, Constr, BldMt, Trans, Hotels, Bus Serv, Entertainment, Finance"
   ]
  },
  {
   "cell_type": "markdown",
   "metadata": {},
   "source": [
    "Source: https://mba.tuck.dartmouth.edu/pages/faculty/ken.french/Data_Library/det_10_ind_port.html"
   ]
  },
  {
   "cell_type": "code",
   "execution_count": 3,
   "metadata": {},
   "outputs": [],
   "source": [
    "class DataImporter:\n",
    "    excel_file = \"10_Industry_Portfolios.xls\"\n",
    "\n",
    "    def __init__(self, split_percent=0.9):\n",
    "        self.raw = {}\n",
    "        self.raw['rets'] = self.get_data(0)\n",
    "        self.raw['nfirms'] = self.get_data(1)\n",
    "        self.raw['avg_size'] = self.get_data(2)\n",
    "        self.raw['mktcap'] = pd.DataFrame(self.raw['nfirms'] *\n",
    "                                          self.raw['avg_size'])\n",
    "        self.raw['w'] = self.calculate_weights()\n",
    "        self.n_industries = len(self.raw['rets'].columns)\n",
    "        self.industries = self.raw['rets'].columns\n",
    "        self.divide_data(split_percent)\n",
    "\n",
    "    def get_data(self, sheet):\n",
    "        raw = pd.read_excel(self.excel_file, header=0,\n",
    "                            index_col=0, na_values=-99.99,\n",
    "                            sheet_name=sheet)/100\n",
    "        raw.index = pd.to_datetime(raw.index, format=\"%Y%m\").to_period('M')\n",
    "        return raw\n",
    "\n",
    "    def aux_division(self, split, parameter):\n",
    "        self.train[parameter] = self.raw[parameter].iloc[:split].copy()\n",
    "        self.test[parameter] = self.raw[parameter].iloc[split:].copy()\n",
    "\n",
    "    def divide_data(self, split_percent):\n",
    "        split = int(len(self.raw['rets']) * split_percent)\n",
    "        self.train = {}\n",
    "        self.test = {}\n",
    "        self.aux_division(split, 'rets')\n",
    "        self.aux_division(split, 'nfirms')\n",
    "        self.aux_division(split, 'avg_size')\n",
    "        self.aux_division(split, 'mktcap')\n",
    "        self.aux_division(split, 'w')\n",
    "\n",
    "    def calculate_weights(self):\n",
    "        total_mktcap = self.raw['mktcap'].sum(axis=1)\n",
    "        ind_weight = self.raw['mktcap'].divide(total_mktcap, axis=0)\n",
    "        return ind_weight\n",
    "        "
   ]
  },
  {
   "cell_type": "code",
   "execution_count": 4,
   "metadata": {},
   "outputs": [],
   "source": [
    "original_data = DataImporter()"
   ]
  },
  {
   "cell_type": "code",
   "execution_count": 5,
   "metadata": {},
   "outputs": [
    {
     "data": {
      "text/html": [
       "<div>\n",
       "<style scoped>\n",
       "    .dataframe tbody tr th:only-of-type {\n",
       "        vertical-align: middle;\n",
       "    }\n",
       "\n",
       "    .dataframe tbody tr th {\n",
       "        vertical-align: top;\n",
       "    }\n",
       "\n",
       "    .dataframe thead th {\n",
       "        text-align: right;\n",
       "    }\n",
       "</style>\n",
       "<table border=\"1\" class=\"dataframe\">\n",
       "  <thead>\n",
       "    <tr style=\"text-align: right;\">\n",
       "      <th></th>\n",
       "      <th>NoDur</th>\n",
       "      <th>Durbl</th>\n",
       "      <th>Manuf</th>\n",
       "      <th>Enrgy</th>\n",
       "      <th>HiTec</th>\n",
       "      <th>Telcm</th>\n",
       "      <th>Shops</th>\n",
       "      <th>Hlth</th>\n",
       "      <th>Utils</th>\n",
       "      <th>Other</th>\n",
       "    </tr>\n",
       "  </thead>\n",
       "  <tbody>\n",
       "    <tr>\n",
       "      <th>2011-04</th>\n",
       "      <td>0.0459</td>\n",
       "      <td>0.0222</td>\n",
       "      <td>0.0299</td>\n",
       "      <td>0.0130</td>\n",
       "      <td>0.0311</td>\n",
       "      <td>0.0341</td>\n",
       "      <td>0.0453</td>\n",
       "      <td>0.0638</td>\n",
       "      <td>0.0399</td>\n",
       "      <td>0.0111</td>\n",
       "    </tr>\n",
       "    <tr>\n",
       "      <th>2011-05</th>\n",
       "      <td>0.0193</td>\n",
       "      <td>-0.0354</td>\n",
       "      <td>-0.0215</td>\n",
       "      <td>-0.0456</td>\n",
       "      <td>-0.0166</td>\n",
       "      <td>0.0077</td>\n",
       "      <td>0.0083</td>\n",
       "      <td>0.0197</td>\n",
       "      <td>0.0130</td>\n",
       "      <td>-0.0239</td>\n",
       "    </tr>\n",
       "    <tr>\n",
       "      <th>2011-06</th>\n",
       "      <td>-0.0101</td>\n",
       "      <td>-0.0123</td>\n",
       "      <td>-0.0059</td>\n",
       "      <td>-0.0249</td>\n",
       "      <td>-0.0233</td>\n",
       "      <td>-0.0124</td>\n",
       "      <td>-0.0089</td>\n",
       "      <td>-0.0183</td>\n",
       "      <td>-0.0034</td>\n",
       "      <td>-0.0206</td>\n",
       "    </tr>\n",
       "    <tr>\n",
       "      <th>2011-07</th>\n",
       "      <td>-0.0043</td>\n",
       "      <td>-0.0891</td>\n",
       "      <td>-0.0470</td>\n",
       "      <td>0.0051</td>\n",
       "      <td>-0.0037</td>\n",
       "      <td>-0.0503</td>\n",
       "      <td>-0.0067</td>\n",
       "      <td>-0.0365</td>\n",
       "      <td>-0.0035</td>\n",
       "      <td>-0.0376</td>\n",
       "    </tr>\n",
       "    <tr>\n",
       "      <th>2011-08</th>\n",
       "      <td>-0.0068</td>\n",
       "      <td>-0.1200</td>\n",
       "      <td>-0.0609</td>\n",
       "      <td>-0.1011</td>\n",
       "      <td>-0.0689</td>\n",
       "      <td>-0.0545</td>\n",
       "      <td>-0.0288</td>\n",
       "      <td>-0.0310</td>\n",
       "      <td>0.0014</td>\n",
       "      <td>-0.0761</td>\n",
       "    </tr>\n",
       "  </tbody>\n",
       "</table>\n",
       "</div>"
      ],
      "text/plain": [
       "          NoDur   Durbl   Manuf   Enrgy   HiTec   Telcm   Shops    Hlth  \\\n",
       "2011-04  0.0459  0.0222  0.0299  0.0130  0.0311  0.0341  0.0453  0.0638   \n",
       "2011-05  0.0193 -0.0354 -0.0215 -0.0456 -0.0166  0.0077  0.0083  0.0197   \n",
       "2011-06 -0.0101 -0.0123 -0.0059 -0.0249 -0.0233 -0.0124 -0.0089 -0.0183   \n",
       "2011-07 -0.0043 -0.0891 -0.0470  0.0051 -0.0037 -0.0503 -0.0067 -0.0365   \n",
       "2011-08 -0.0068 -0.1200 -0.0609 -0.1011 -0.0689 -0.0545 -0.0288 -0.0310   \n",
       "\n",
       "          Utils   Other  \n",
       "2011-04  0.0399  0.0111  \n",
       "2011-05  0.0130 -0.0239  \n",
       "2011-06 -0.0034 -0.0206  \n",
       "2011-07 -0.0035 -0.0376  \n",
       "2011-08  0.0014 -0.0761  "
      ]
     },
     "execution_count": 5,
     "metadata": {},
     "output_type": "execute_result"
    }
   ],
   "source": [
    "original_data.train['rets'].tail()"
   ]
  },
  {
   "cell_type": "code",
   "execution_count": 50,
   "metadata": {},
   "outputs": [
    {
     "data": {
      "text/html": [
       "<div>\n",
       "<style scoped>\n",
       "    .dataframe tbody tr th:only-of-type {\n",
       "        vertical-align: middle;\n",
       "    }\n",
       "\n",
       "    .dataframe tbody tr th {\n",
       "        vertical-align: top;\n",
       "    }\n",
       "\n",
       "    .dataframe thead th {\n",
       "        text-align: right;\n",
       "    }\n",
       "</style>\n",
       "<table border=\"1\" class=\"dataframe\">\n",
       "  <thead>\n",
       "    <tr style=\"text-align: right;\">\n",
       "      <th></th>\n",
       "      <th>nfirms</th>\n",
       "      <th>avg_size</th>\n",
       "      <th>mktcap</th>\n",
       "    </tr>\n",
       "  </thead>\n",
       "  <tbody>\n",
       "    <tr>\n",
       "      <th>NoDur</th>\n",
       "      <td>1.7</td>\n",
       "      <td>58.5</td>\n",
       "      <td>100.7</td>\n",
       "    </tr>\n",
       "    <tr>\n",
       "      <th>Durbl</th>\n",
       "      <td>1.0</td>\n",
       "      <td>24.5</td>\n",
       "      <td>23.5</td>\n",
       "    </tr>\n",
       "    <tr>\n",
       "      <th>Manuf</th>\n",
       "      <td>4.6</td>\n",
       "      <td>38.5</td>\n",
       "      <td>176.4</td>\n",
       "    </tr>\n",
       "    <tr>\n",
       "      <th>Enrgy</th>\n",
       "      <td>1.7</td>\n",
       "      <td>89.2</td>\n",
       "      <td>151.7</td>\n",
       "    </tr>\n",
       "    <tr>\n",
       "      <th>HiTec</th>\n",
       "      <td>6.9</td>\n",
       "      <td>42.6</td>\n",
       "      <td>292.4</td>\n",
       "    </tr>\n",
       "    <tr>\n",
       "      <th>Telcm</th>\n",
       "      <td>1.0</td>\n",
       "      <td>78.7</td>\n",
       "      <td>79.5</td>\n",
       "    </tr>\n",
       "    <tr>\n",
       "      <th>Shops</th>\n",
       "      <td>3.4</td>\n",
       "      <td>40.1</td>\n",
       "      <td>136.5</td>\n",
       "    </tr>\n",
       "    <tr>\n",
       "      <th>Hlth</th>\n",
       "      <td>4.6</td>\n",
       "      <td>29.2</td>\n",
       "      <td>133.6</td>\n",
       "    </tr>\n",
       "    <tr>\n",
       "      <th>Utils</th>\n",
       "      <td>1.0</td>\n",
       "      <td>59.8</td>\n",
       "      <td>59.8</td>\n",
       "    </tr>\n",
       "    <tr>\n",
       "      <th>Other</th>\n",
       "      <td>11.8</td>\n",
       "      <td>31.5</td>\n",
       "      <td>370.5</td>\n",
       "    </tr>\n",
       "  </tbody>\n",
       "</table>\n",
       "</div>"
      ],
      "text/plain": [
       "       nfirms  avg_size  mktcap\n",
       "NoDur     1.7      58.5   100.7\n",
       "Durbl     1.0      24.5    23.5\n",
       "Manuf     4.6      38.5   176.4\n",
       "Enrgy     1.7      89.2   151.7\n",
       "HiTec     6.9      42.6   292.4\n",
       "Telcm     1.0      78.7    79.5\n",
       "Shops     3.4      40.1   136.5\n",
       "Hlth      4.6      29.2   133.6\n",
       "Utils     1.0      59.8    59.8\n",
       "Other    11.8      31.5   370.5"
      ]
     },
     "execution_count": 50,
     "metadata": {},
     "output_type": "execute_result"
    }
   ],
   "source": [
    "nf = pd.DataFrame(original_data.train['nfirms'].tail(1).T)\n",
    "nf.columns = [\"nfirms\"]\n",
    "avs = pd.DataFrame(original_data.train['avg_size'].tail(1).T)\n",
    "avs.columns=[\"avg_size\"]\n",
    "mcap = pd.DataFrame(original_data.train['mktcap'].tail(1).T)\n",
    "mcap.columns=[\"mktcap\"]\n",
    "aux_plot = pd.concat([nf, avs,mcap], axis=1)\n",
    "aux_plot.round(1)"
   ]
  },
  {
   "cell_type": "code",
   "execution_count": 45,
   "metadata": {},
   "outputs": [
    {
     "data": {
      "image/png": "[encoded data removed]",
      "text/plain": [
       "<Figure size 720x432 with 1 Axes>"
      ]
     },
     "metadata": {
      "needs_background": "light"
     },
     "output_type": "display_data"
    }
   ],
   "source": [
    "train_date =  original_data.train['nfirms'].tail(1).index[0]\n",
    "f, ax = plt.subplots()\n",
    "f.suptitle('Avg Firm Size vs Number of firms',fontweight=\"bold\")\n",
    "ax.set_title(\"Date: \" + str(train_date))\n",
    "ax.set_xlabel('# of firms')\n",
    "ax.set_ylabel('Average Size')\n",
    "sns.scatterplot(x=\"nfirms\", y=\"avg_size\", hue=\"mktcap\", size=\"mktcap\",sizes=(20, 300),\n",
    "                data=aux_plot, ax=ax);"
   ]
  },
  {
   "cell_type": "code",
   "execution_count": 47,
   "metadata": {},
   "outputs": [
    {
     "data": {
      "image/png": "[encoded data removed]",
      "text/plain": [
       "<Figure size 720x432 with 1 Axes>"
      ]
     },
     "metadata": {
      "needs_background": "light"
     },
     "output_type": "display_data"
    }
   ],
   "source": [
    "fig, ax = plt.subplots()\n",
    "fig.suptitle('Market Cap by Industry',fontweight=\"bold\")\n",
    "ax.set_title(\"Date: \" + str(train_date))\n",
    "ax.set_xlabel('Industry')\n",
    "sns.barplot(data=original_data.train['mktcap'].tail(1));"
   ]
  },
  {
   "cell_type": "markdown",
   "metadata": {},
   "source": [
    "## Explore the data"
   ]
  },
  {
   "cell_type": "code",
   "execution_count": 10,
   "metadata": {},
   "outputs": [
    {
     "data": {
      "text/html": [
       "<div>\n",
       "<style scoped>\n",
       "    .dataframe tbody tr th:only-of-type {\n",
       "        vertical-align: middle;\n",
       "    }\n",
       "\n",
       "    .dataframe tbody tr th {\n",
       "        vertical-align: top;\n",
       "    }\n",
       "\n",
       "    .dataframe thead th {\n",
       "        text-align: right;\n",
       "    }\n",
       "</style>\n",
       "<table border=\"1\" class=\"dataframe\">\n",
       "  <thead>\n",
       "    <tr style=\"text-align: right;\">\n",
       "      <th></th>\n",
       "      <th>NoDur</th>\n",
       "      <th>Durbl</th>\n",
       "      <th>Manuf</th>\n",
       "      <th>Enrgy</th>\n",
       "      <th>HiTec</th>\n",
       "      <th>Telcm</th>\n",
       "      <th>Shops</th>\n",
       "      <th>Hlth</th>\n",
       "      <th>Utils</th>\n",
       "      <th>Other</th>\n",
       "    </tr>\n",
       "  </thead>\n",
       "  <tbody>\n",
       "    <tr>\n",
       "      <th>count</th>\n",
       "      <td>1022.000000</td>\n",
       "      <td>1022.000000</td>\n",
       "      <td>1022.000000</td>\n",
       "      <td>1022.000000</td>\n",
       "      <td>1022.000000</td>\n",
       "      <td>1022.000000</td>\n",
       "      <td>1022.000000</td>\n",
       "      <td>1022.000000</td>\n",
       "      <td>1022.000000</td>\n",
       "      <td>1022.000000</td>\n",
       "    </tr>\n",
       "    <tr>\n",
       "      <th>mean</th>\n",
       "      <td>0.009713</td>\n",
       "      <td>0.010794</td>\n",
       "      <td>0.010155</td>\n",
       "      <td>0.010631</td>\n",
       "      <td>0.010799</td>\n",
       "      <td>0.008327</td>\n",
       "      <td>0.009902</td>\n",
       "      <td>0.010616</td>\n",
       "      <td>0.008805</td>\n",
       "      <td>0.008794</td>\n",
       "    </tr>\n",
       "    <tr>\n",
       "      <th>std</th>\n",
       "      <td>0.046867</td>\n",
       "      <td>0.078084</td>\n",
       "      <td>0.063800</td>\n",
       "      <td>0.061173</td>\n",
       "      <td>0.074262</td>\n",
       "      <td>0.046643</td>\n",
       "      <td>0.059612</td>\n",
       "      <td>0.056860</td>\n",
       "      <td>0.056538</td>\n",
       "      <td>0.065589</td>\n",
       "    </tr>\n",
       "    <tr>\n",
       "      <th>min</th>\n",
       "      <td>-0.246900</td>\n",
       "      <td>-0.348000</td>\n",
       "      <td>-0.298200</td>\n",
       "      <td>-0.298400</td>\n",
       "      <td>-0.338700</td>\n",
       "      <td>-0.215600</td>\n",
       "      <td>-0.302400</td>\n",
       "      <td>-0.340800</td>\n",
       "      <td>-0.330500</td>\n",
       "      <td>-0.300300</td>\n",
       "    </tr>\n",
       "    <tr>\n",
       "      <th>25%</th>\n",
       "      <td>-0.014000</td>\n",
       "      <td>-0.027775</td>\n",
       "      <td>-0.020900</td>\n",
       "      <td>-0.023700</td>\n",
       "      <td>-0.028075</td>\n",
       "      <td>-0.013850</td>\n",
       "      <td>-0.021500</td>\n",
       "      <td>-0.019875</td>\n",
       "      <td>-0.016875</td>\n",
       "      <td>-0.021975</td>\n",
       "    </tr>\n",
       "    <tr>\n",
       "      <th>50%</th>\n",
       "      <td>0.010950</td>\n",
       "      <td>0.010050</td>\n",
       "      <td>0.013800</td>\n",
       "      <td>0.008900</td>\n",
       "      <td>0.012600</td>\n",
       "      <td>0.009000</td>\n",
       "      <td>0.011150</td>\n",
       "      <td>0.010850</td>\n",
       "      <td>0.010500</td>\n",
       "      <td>0.012450</td>\n",
       "    </tr>\n",
       "    <tr>\n",
       "      <th>75%</th>\n",
       "      <td>0.036700</td>\n",
       "      <td>0.048400</td>\n",
       "      <td>0.043275</td>\n",
       "      <td>0.046175</td>\n",
       "      <td>0.050675</td>\n",
       "      <td>0.032075</td>\n",
       "      <td>0.041325</td>\n",
       "      <td>0.040850</td>\n",
       "      <td>0.036275</td>\n",
       "      <td>0.042500</td>\n",
       "    </tr>\n",
       "    <tr>\n",
       "      <th>max</th>\n",
       "      <td>0.341700</td>\n",
       "      <td>0.797900</td>\n",
       "      <td>0.572000</td>\n",
       "      <td>0.389900</td>\n",
       "      <td>0.534900</td>\n",
       "      <td>0.281700</td>\n",
       "      <td>0.424500</td>\n",
       "      <td>0.371300</td>\n",
       "      <td>0.434600</td>\n",
       "      <td>0.587500</td>\n",
       "    </tr>\n",
       "  </tbody>\n",
       "</table>\n",
       "</div>"
      ],
      "text/plain": [
       "             NoDur        Durbl        Manuf        Enrgy        HiTec  \\\n",
       "count  1022.000000  1022.000000  1022.000000  1022.000000  1022.000000   \n",
       "mean      0.009713     0.010794     0.010155     0.010631     0.010799   \n",
       "std       0.046867     0.078084     0.063800     0.061173     0.074262   \n",
       "min      -0.246900    -0.348000    -0.298200    -0.298400    -0.338700   \n",
       "25%      -0.014000    -0.027775    -0.020900    -0.023700    -0.028075   \n",
       "50%       0.010950     0.010050     0.013800     0.008900     0.012600   \n",
       "75%       0.036700     0.048400     0.043275     0.046175     0.050675   \n",
       "max       0.341700     0.797900     0.572000     0.389900     0.534900   \n",
       "\n",
       "             Telcm        Shops         Hlth        Utils        Other  \n",
       "count  1022.000000  1022.000000  1022.000000  1022.000000  1022.000000  \n",
       "mean      0.008327     0.009902     0.010616     0.008805     0.008794  \n",
       "std       0.046643     0.059612     0.056860     0.056538     0.065589  \n",
       "min      -0.215600    -0.302400    -0.340800    -0.330500    -0.300300  \n",
       "25%      -0.013850    -0.021500    -0.019875    -0.016875    -0.021975  \n",
       "50%       0.009000     0.011150     0.010850     0.010500     0.012450  \n",
       "75%       0.032075     0.041325     0.040850     0.036275     0.042500  \n",
       "max       0.281700     0.424500     0.371300     0.434600     0.587500  "
      ]
     },
     "execution_count": 10,
     "metadata": {},
     "output_type": "execute_result"
    }
   ],
   "source": [
    "original_data.train['rets'].describe()"
   ]
  },
  {
   "cell_type": "code",
   "execution_count": 48,
   "metadata": {},
   "outputs": [
    {
     "data": {
      "image/png": "[encoded data removed]",
      "text/plain": [
       "<Figure size 720x432 with 2 Axes>"
      ]
     },
     "metadata": {
      "needs_background": "light"
     },
     "output_type": "display_data"
    }
   ],
   "source": [
    "fig, ax = plt.subplots()\n",
    "fig.suptitle('Correlation of Returns by Industry',fontweight=\"bold\")\n",
    "ax.set_title(\"Date: \" + str(train_date))\n",
    "sns.heatmap(original_data.train['rets'].corr().round(1),\n",
    "            cmap=sns.color_palette('Blues'), annot=True, linewidths=.5, ax=ax);"
   ]
  },
  {
   "cell_type": "markdown",
   "metadata": {},
   "source": [
    "## Calculate expected Returns"
   ]
  },
  {
   "cell_type": "code",
   "execution_count": 12,
   "metadata": {},
   "outputs": [],
   "source": [
    "views = {}"
   ]
  },
  {
   "cell_type": "code",
   "execution_count": 13,
   "metadata": {},
   "outputs": [],
   "source": [
    "views['v'] = 1  # number of views"
   ]
  },
  {
   "cell_type": "code",
   "execution_count": 14,
   "metadata": {},
   "outputs": [
    {
     "data": {
      "text/plain": [
       "array([[ 1.,  0., -1.,  0.,  0.,  0.,  0.,  0.,  0.,  0.]])"
      ]
     },
     "execution_count": 14,
     "metadata": {},
     "output_type": "execute_result"
    }
   ],
   "source": [
    "views['P'] = np.zeros((views['v'], 10))\n",
    "views['P'][0, 0] = 1 # view on 'NoDur'\n",
    "views['P'][0, 2] = -1 # view on 'Manuf'\n",
    "views['P']"
   ]
  },
  {
   "cell_type": "code",
   "execution_count": 15,
   "metadata": {},
   "outputs": [
    {
     "data": {
      "text/plain": [
       "array([0.02])"
      ]
     },
     "execution_count": 15,
     "metadata": {},
     "output_type": "execute_result"
    }
   ],
   "source": [
    "views['q'] = np.zeros(views['v'])\n",
    "views['q'][0] = 0.02\n",
    "views['q']"
   ]
  },
  {
   "cell_type": "code",
   "execution_count": 16,
   "metadata": {},
   "outputs": [],
   "source": [
    "views['omega'] = np.zeros((views['v'], views['v']))\n",
    "views['omega'][0, 0] = 0.000001  # \"no\" variance"
   ]
  },
  {
   "cell_type": "markdown",
   "metadata": {},
   "source": [
    "## Calculate Black Litterman Returns"
   ]
  },
  {
   "cell_type": "code",
   "execution_count": 17,
   "metadata": {},
   "outputs": [],
   "source": [
    "class BlackLitterman(DataImporter):\n",
    "\n",
    "    def __init__(self, views, split_percent=0.9,\n",
    "                 delta=3, tau=1, rf=0.02):\n",
    "        super().__init__(split_percent)\n",
    "        self.cov = {}\n",
    "        self.returns = {}\n",
    "        self.excess_returns = {}\n",
    "        self.cov['historical'] = self.train['rets'].cov() * 12\n",
    "        self.returns['historical'] = pd.DataFrame(self.train['rets'].mean() *\n",
    "                                                  12, columns=['historical'])\n",
    "        self.calculate_eq(rf, delta)\n",
    "        self.calculate_bl(tau, views, rf)\n",
    "\n",
    "    def calculate_eq(self, rf, delta):\n",
    "        self.returns['equilibrium'] = \\\n",
    "        pd.DataFrame(delta * np.dot(self.cov['historical'],\n",
    "                     self.train['w'].tail(1).T), columns=['equilibrium'],\n",
    "                     index=self.industries)\n",
    "        self.excess_returns['equilibrium'] = \\\n",
    "        (self.returns['equilibrium'].values - rf).reshape((self.n_industries,))\n",
    "\n",
    "    def calculate_bl(self, tau, views, rf):\n",
    "        # Calculate 2 intermediate variables m1 and m2\n",
    "        # m1 is related to the views\n",
    "        m1 = np.dot(views['P'].T, np.dot(1 / views['omega'], views['P'])) + \\\n",
    "        np.linalg.inv(tau * self.cov['historical'])\n",
    "        # m2 is related to the equilibrium returns\n",
    "        m2 = np.dot(views['P'].T, np.dot(1 / views['omega'], views['q'])) + \\\n",
    "        np.dot(np.linalg.inv(tau * self.cov['historical']),\n",
    "               self.excess_returns['equilibrium'])\n",
    "        # Calculate the excess return with the previously calculated m1, m2\n",
    "        self.excess_returns['black_litterman'] = np.dot(np.linalg.inv(m1), m2)\n",
    "        # Calculate the returns adding rf to the excess returns\n",
    "        self.returns['black_litterman'] = \\\n",
    "        pd.DataFrame(self.excess_returns['black_litterman'] + rf,\n",
    "                     columns=['black_litterman'], index=self.industries)\n",
    "        # Calculate the new covariance matrix\n",
    "        self.cov['black_litterman'] = \\\n",
    "        self.cov['historical'] + np.linalg.inv(m1)\n"
   ]
  },
  {
   "cell_type": "code",
   "execution_count": 18,
   "metadata": {},
   "outputs": [],
   "source": [
    "BL = BlackLitterman(views)"
   ]
  },
  {
   "cell_type": "markdown",
   "metadata": {},
   "source": [
    "Recall that the first step in the Black Litterman procedure was to reverse engineer the implied returns vector $\\pi$ from a set of portfolio weights $w$. \n",
    "\n",
    "$$\\pi = \\delta\\Sigma w$$\n"
   ]
  },
  {
   "cell_type": "code",
   "execution_count": 19,
   "metadata": {},
   "outputs": [
    {
     "data": {
      "text/html": [
       "<div>\n",
       "<style scoped>\n",
       "    .dataframe tbody tr th:only-of-type {\n",
       "        vertical-align: middle;\n",
       "    }\n",
       "\n",
       "    .dataframe tbody tr th {\n",
       "        vertical-align: top;\n",
       "    }\n",
       "\n",
       "    .dataframe thead th {\n",
       "        text-align: right;\n",
       "    }\n",
       "</style>\n",
       "<table border=\"1\" class=\"dataframe\">\n",
       "  <thead>\n",
       "    <tr style=\"text-align: right;\">\n",
       "      <th></th>\n",
       "      <th>equilibrium</th>\n",
       "    </tr>\n",
       "  </thead>\n",
       "  <tbody>\n",
       "    <tr>\n",
       "      <th>NoDur</th>\n",
       "      <td>0.084478</td>\n",
       "    </tr>\n",
       "    <tr>\n",
       "      <th>Durbl</th>\n",
       "      <td>0.135166</td>\n",
       "    </tr>\n",
       "    <tr>\n",
       "      <th>Manuf</th>\n",
       "      <td>0.123809</td>\n",
       "    </tr>\n",
       "    <tr>\n",
       "      <th>Enrgy</th>\n",
       "      <td>0.094358</td>\n",
       "    </tr>\n",
       "    <tr>\n",
       "      <th>HiTec</th>\n",
       "      <td>0.137184</td>\n",
       "    </tr>\n",
       "    <tr>\n",
       "      <th>Telcm</th>\n",
       "      <td>0.071492</td>\n",
       "    </tr>\n",
       "    <tr>\n",
       "      <th>Shops</th>\n",
       "      <td>0.107817</td>\n",
       "    </tr>\n",
       "    <tr>\n",
       "      <th>Hlth</th>\n",
       "      <td>0.094674</td>\n",
       "    </tr>\n",
       "    <tr>\n",
       "      <th>Utils</th>\n",
       "      <td>0.087571</td>\n",
       "    </tr>\n",
       "    <tr>\n",
       "      <th>Other</th>\n",
       "      <td>0.125971</td>\n",
       "    </tr>\n",
       "  </tbody>\n",
       "</table>\n",
       "</div>"
      ],
      "text/plain": [
       "       equilibrium\n",
       "NoDur     0.084478\n",
       "Durbl     0.135166\n",
       "Manuf     0.123809\n",
       "Enrgy     0.094358\n",
       "HiTec     0.137184\n",
       "Telcm     0.071492\n",
       "Shops     0.107817\n",
       "Hlth      0.094674\n",
       "Utils     0.087571\n",
       "Other     0.125971"
      ]
     },
     "execution_count": 19,
     "metadata": {},
     "output_type": "execute_result"
    }
   ],
   "source": [
    "BL.returns['equilibrium']"
   ]
  },
  {
   "cell_type": "markdown",
   "metadata": {},
   "source": [
    "Assume that we have $N$ assets, and $K$ views. There are two sets of inputs to the procedure. The first set of inputs relate to market parameters and these are:\n",
    "\n",
    "\\begin{array}{ll}\n",
    "w & \\mbox{A Column Vector ($N \\times 1$) of Equilibrium Market Weights of the Assets} \\\\\n",
    "\\Sigma & \\mbox{A Covariance Matrix ($N \\times N$) of the Assets} \\\\\n",
    "R_f & \\mbox{The Risk Free Rate} \\\\\n",
    "\\delta & \\mbox{The investor's Risk Aversion parameter}  \\\\\n",
    "\\tau & \\mbox{A scalar indicating the uncertainty of the prior (details below)}\n",
    "\\end{array}"
   ]
  },
  {
   "cell_type": "markdown",
   "metadata": {},
   "source": [
    "The second set of inputs that the procedure needs is a representation of the investors views. These are specified via:\n",
    "\n",
    "\\begin{array}{ll}\n",
    "Q & \\mbox{An $K \\times 1$ ``Qualitative Views'' or simply, Views matrix} \\\\\n",
    "P & \\mbox{A $K \\times N$ ``Projection'' or ``Pick'' matrix, linking each view to the assets} \\\\\n",
    "\\Omega & \\mbox{A Covariance matrix representing the uncertainty of views}\n",
    "\\end{array}"
   ]
  },
  {
   "cell_type": "markdown",
   "metadata": {},
   "source": [
    "The posterior returns and covariances are obtained from the _Black-Litterman Master Formula_ which is the following set of equations:\n",
    "\n",
    "\\begin{equation}\n",
    "\\label{eq:blMuOrig}\n",
    "\\mu^{BL} = [(\\tau\\Sigma)^{-1} + P \\Omega^{-1} P]^{-1}[(\\tau\\Sigma)^{-1} \\pi + P \\Omega^{-1} Q]\n",
    "\\end{equation}\n",
    "\n",
    "\n",
    "\\begin{equation}\n",
    "\\label{eq:blSigmaOrig}\n",
    "\\Sigma^{BL} = \\Sigma + [(\\tau\\Sigma)^{-1} + P \\Omega^{-1} P]^{-1}\n",
    "\\end{equation}"
   ]
  },
  {
   "cell_type": "code",
   "execution_count": 20,
   "metadata": {},
   "outputs": [
    {
     "data": {
      "text/html": [
       "<div>\n",
       "<style scoped>\n",
       "    .dataframe tbody tr th:only-of-type {\n",
       "        vertical-align: middle;\n",
       "    }\n",
       "\n",
       "    .dataframe tbody tr th {\n",
       "        vertical-align: top;\n",
       "    }\n",
       "\n",
       "    .dataframe thead th {\n",
       "        text-align: right;\n",
       "    }\n",
       "</style>\n",
       "<table border=\"1\" class=\"dataframe\">\n",
       "  <thead>\n",
       "    <tr style=\"text-align: right;\">\n",
       "      <th></th>\n",
       "      <th>historical</th>\n",
       "      <th>equilibrium</th>\n",
       "      <th>black_litterman</th>\n",
       "    </tr>\n",
       "  </thead>\n",
       "  <tbody>\n",
       "    <tr>\n",
       "      <th>NoDur</th>\n",
       "      <td>0.116550</td>\n",
       "      <td>0.084478</td>\n",
       "      <td>0.066329</td>\n",
       "    </tr>\n",
       "    <tr>\n",
       "      <th>Durbl</th>\n",
       "      <td>0.129532</td>\n",
       "      <td>0.135166</td>\n",
       "      <td>0.053192</td>\n",
       "    </tr>\n",
       "    <tr>\n",
       "      <th>Manuf</th>\n",
       "      <td>0.121855</td>\n",
       "      <td>0.123809</td>\n",
       "      <td>0.046334</td>\n",
       "    </tr>\n",
       "    <tr>\n",
       "      <th>Enrgy</th>\n",
       "      <td>0.127571</td>\n",
       "      <td>0.094358</td>\n",
       "      <td>0.039519</td>\n",
       "    </tr>\n",
       "    <tr>\n",
       "      <th>HiTec</th>\n",
       "      <td>0.129591</td>\n",
       "      <td>0.137184</td>\n",
       "      <td>0.059702</td>\n",
       "    </tr>\n",
       "    <tr>\n",
       "      <th>Telcm</th>\n",
       "      <td>0.099923</td>\n",
       "      <td>0.071492</td>\n",
       "      <td>0.042863</td>\n",
       "    </tr>\n",
       "    <tr>\n",
       "      <th>Shops</th>\n",
       "      <td>0.118825</td>\n",
       "      <td>0.107817</td>\n",
       "      <td>0.066784</td>\n",
       "    </tr>\n",
       "    <tr>\n",
       "      <th>Hlth</th>\n",
       "      <td>0.127390</td>\n",
       "      <td>0.094674</td>\n",
       "      <td>0.063296</td>\n",
       "    </tr>\n",
       "    <tr>\n",
       "      <th>Utils</th>\n",
       "      <td>0.105662</td>\n",
       "      <td>0.087571</td>\n",
       "      <td>0.053962</td>\n",
       "    </tr>\n",
       "    <tr>\n",
       "      <th>Other</th>\n",
       "      <td>0.105533</td>\n",
       "      <td>0.125971</td>\n",
       "      <td>0.065191</td>\n",
       "    </tr>\n",
       "  </tbody>\n",
       "</table>\n",
       "</div>"
      ],
      "text/plain": [
       "       historical  equilibrium  black_litterman\n",
       "NoDur    0.116550     0.084478         0.066329\n",
       "Durbl    0.129532     0.135166         0.053192\n",
       "Manuf    0.121855     0.123809         0.046334\n",
       "Enrgy    0.127571     0.094358         0.039519\n",
       "HiTec    0.129591     0.137184         0.059702\n",
       "Telcm    0.099923     0.071492         0.042863\n",
       "Shops    0.118825     0.107817         0.066784\n",
       "Hlth     0.127390     0.094674         0.063296\n",
       "Utils    0.105662     0.087571         0.053962\n",
       "Other    0.105533     0.125971         0.065191"
      ]
     },
     "execution_count": 20,
     "metadata": {},
     "output_type": "execute_result"
    }
   ],
   "source": [
    "pd.concat([BL.returns['historical'], BL.returns['equilibrium'],BL.returns['black_litterman']], axis=1)"
   ]
  },
  {
   "cell_type": "code",
   "execution_count": 21,
   "metadata": {},
   "outputs": [
    {
     "data": {
      "text/html": [
       "<div>\n",
       "<style scoped>\n",
       "    .dataframe tbody tr th:only-of-type {\n",
       "        vertical-align: middle;\n",
       "    }\n",
       "\n",
       "    .dataframe tbody tr th {\n",
       "        vertical-align: top;\n",
       "    }\n",
       "\n",
       "    .dataframe thead th {\n",
       "        text-align: right;\n",
       "    }\n",
       "</style>\n",
       "<table border=\"1\" class=\"dataframe\">\n",
       "  <thead>\n",
       "    <tr style=\"text-align: right;\">\n",
       "      <th></th>\n",
       "      <th>NoDur</th>\n",
       "      <th>Durbl</th>\n",
       "      <th>Manuf</th>\n",
       "      <th>Enrgy</th>\n",
       "      <th>HiTec</th>\n",
       "      <th>Telcm</th>\n",
       "      <th>Shops</th>\n",
       "      <th>Hlth</th>\n",
       "      <th>Utils</th>\n",
       "      <th>Other</th>\n",
       "    </tr>\n",
       "  </thead>\n",
       "  <tbody>\n",
       "    <tr>\n",
       "      <th>NoDur</th>\n",
       "      <td>0.051411</td>\n",
       "      <td>0.060006</td>\n",
       "      <td>0.055679</td>\n",
       "      <td>0.039317</td>\n",
       "      <td>0.056278</td>\n",
       "      <td>0.033501</td>\n",
       "      <td>0.055395</td>\n",
       "      <td>0.049183</td>\n",
       "      <td>0.042784</td>\n",
       "      <td>0.058206</td>\n",
       "    </tr>\n",
       "    <tr>\n",
       "      <th>Durbl</th>\n",
       "      <td>0.060006</td>\n",
       "      <td>0.119696</td>\n",
       "      <td>0.079285</td>\n",
       "      <td>0.053216</td>\n",
       "      <td>0.083118</td>\n",
       "      <td>0.046220</td>\n",
       "      <td>0.076296</td>\n",
       "      <td>0.057846</td>\n",
       "      <td>0.055602</td>\n",
       "      <td>0.079364</td>\n",
       "    </tr>\n",
       "    <tr>\n",
       "      <th>Manuf</th>\n",
       "      <td>0.055679</td>\n",
       "      <td>0.079285</td>\n",
       "      <td>0.073900</td>\n",
       "      <td>0.052215</td>\n",
       "      <td>0.074501</td>\n",
       "      <td>0.040234</td>\n",
       "      <td>0.065046</td>\n",
       "      <td>0.056563</td>\n",
       "      <td>0.050689</td>\n",
       "      <td>0.072500</td>\n",
       "    </tr>\n",
       "    <tr>\n",
       "      <th>Enrgy</th>\n",
       "      <td>0.039317</td>\n",
       "      <td>0.053216</td>\n",
       "      <td>0.052215</td>\n",
       "      <td>0.077892</td>\n",
       "      <td>0.050937</td>\n",
       "      <td>0.028990</td>\n",
       "      <td>0.043172</td>\n",
       "      <td>0.040844</td>\n",
       "      <td>0.044758</td>\n",
       "      <td>0.053897</td>\n",
       "    </tr>\n",
       "    <tr>\n",
       "      <th>HiTec</th>\n",
       "      <td>0.056278</td>\n",
       "      <td>0.083118</td>\n",
       "      <td>0.074501</td>\n",
       "      <td>0.050937</td>\n",
       "      <td>0.108562</td>\n",
       "      <td>0.048289</td>\n",
       "      <td>0.071810</td>\n",
       "      <td>0.063613</td>\n",
       "      <td>0.052852</td>\n",
       "      <td>0.075021</td>\n",
       "    </tr>\n",
       "    <tr>\n",
       "      <th>Telcm</th>\n",
       "      <td>0.033501</td>\n",
       "      <td>0.046220</td>\n",
       "      <td>0.040234</td>\n",
       "      <td>0.028990</td>\n",
       "      <td>0.048289</td>\n",
       "      <td>0.048966</td>\n",
       "      <td>0.040699</td>\n",
       "      <td>0.034874</td>\n",
       "      <td>0.036507</td>\n",
       "      <td>0.044948</td>\n",
       "    </tr>\n",
       "    <tr>\n",
       "      <th>Shops</th>\n",
       "      <td>0.055395</td>\n",
       "      <td>0.076296</td>\n",
       "      <td>0.065046</td>\n",
       "      <td>0.043172</td>\n",
       "      <td>0.071810</td>\n",
       "      <td>0.040699</td>\n",
       "      <td>0.078611</td>\n",
       "      <td>0.055414</td>\n",
       "      <td>0.047768</td>\n",
       "      <td>0.067863</td>\n",
       "    </tr>\n",
       "    <tr>\n",
       "      <th>Hlth</th>\n",
       "      <td>0.049183</td>\n",
       "      <td>0.057846</td>\n",
       "      <td>0.056563</td>\n",
       "      <td>0.040844</td>\n",
       "      <td>0.063613</td>\n",
       "      <td>0.034874</td>\n",
       "      <td>0.055414</td>\n",
       "      <td>0.073691</td>\n",
       "      <td>0.044232</td>\n",
       "      <td>0.058683</td>\n",
       "    </tr>\n",
       "    <tr>\n",
       "      <th>Utils</th>\n",
       "      <td>0.042784</td>\n",
       "      <td>0.055602</td>\n",
       "      <td>0.050689</td>\n",
       "      <td>0.044758</td>\n",
       "      <td>0.052852</td>\n",
       "      <td>0.036507</td>\n",
       "      <td>0.047768</td>\n",
       "      <td>0.044232</td>\n",
       "      <td>0.072240</td>\n",
       "      <td>0.057301</td>\n",
       "    </tr>\n",
       "    <tr>\n",
       "      <th>Other</th>\n",
       "      <td>0.058206</td>\n",
       "      <td>0.079364</td>\n",
       "      <td>0.072500</td>\n",
       "      <td>0.053897</td>\n",
       "      <td>0.075021</td>\n",
       "      <td>0.044948</td>\n",
       "      <td>0.067863</td>\n",
       "      <td>0.058683</td>\n",
       "      <td>0.057301</td>\n",
       "      <td>0.088604</td>\n",
       "    </tr>\n",
       "  </tbody>\n",
       "</table>\n",
       "</div>"
      ],
      "text/plain": [
       "          NoDur     Durbl     Manuf     Enrgy     HiTec     Telcm     Shops  \\\n",
       "NoDur  0.051411  0.060006  0.055679  0.039317  0.056278  0.033501  0.055395   \n",
       "Durbl  0.060006  0.119696  0.079285  0.053216  0.083118  0.046220  0.076296   \n",
       "Manuf  0.055679  0.079285  0.073900  0.052215  0.074501  0.040234  0.065046   \n",
       "Enrgy  0.039317  0.053216  0.052215  0.077892  0.050937  0.028990  0.043172   \n",
       "HiTec  0.056278  0.083118  0.074501  0.050937  0.108562  0.048289  0.071810   \n",
       "Telcm  0.033501  0.046220  0.040234  0.028990  0.048289  0.048966  0.040699   \n",
       "Shops  0.055395  0.076296  0.065046  0.043172  0.071810  0.040699  0.078611   \n",
       "Hlth   0.049183  0.057846  0.056563  0.040844  0.063613  0.034874  0.055414   \n",
       "Utils  0.042784  0.055602  0.050689  0.044758  0.052852  0.036507  0.047768   \n",
       "Other  0.058206  0.079364  0.072500  0.053897  0.075021  0.044948  0.067863   \n",
       "\n",
       "           Hlth     Utils     Other  \n",
       "NoDur  0.049183  0.042784  0.058206  \n",
       "Durbl  0.057846  0.055602  0.079364  \n",
       "Manuf  0.056563  0.050689  0.072500  \n",
       "Enrgy  0.040844  0.044758  0.053897  \n",
       "HiTec  0.063613  0.052852  0.075021  \n",
       "Telcm  0.034874  0.036507  0.044948  \n",
       "Shops  0.055414  0.047768  0.067863  \n",
       "Hlth   0.073691  0.044232  0.058683  \n",
       "Utils  0.044232  0.072240  0.057301  \n",
       "Other  0.058683  0.057301  0.088604  "
      ]
     },
     "execution_count": 21,
     "metadata": {},
     "output_type": "execute_result"
    }
   ],
   "source": [
    "BL.cov['black_litterman']"
   ]
  },
  {
   "cell_type": "markdown",
   "metadata": {},
   "source": [
    "## Basic Calculations"
   ]
  },
  {
   "cell_type": "code",
   "execution_count": 22,
   "metadata": {},
   "outputs": [],
   "source": [
    "# Initial Weights\n",
    "ind = original_data.n_industries\n",
    "eq_w = ind * [1 / ind]\n",
    "\n",
    "#Risk Free\n",
    "rf = 0.01\n",
    "\n",
    "def calculate_return(weights):\n",
    "    return np.dot(original_data.train['rets'].mean(), weights) * 12\n",
    "\n",
    "def calculate_std_dev(weights):\n",
    "    return math.sqrt(np.dot(weights, np.dot(original_data.train['rets'].cov(), weights)) * 12)\n",
    "\n",
    "def calculate_sharpe(weights):\n",
    "    return (calculate_return(weights) - rf) / calculate_std_dev(weights)"
   ]
  },
  {
   "cell_type": "code",
   "execution_count": 23,
   "metadata": {},
   "outputs": [
    {
     "data": {
      "text/plain": [
       "0.11824320939334637"
      ]
     },
     "execution_count": 23,
     "metadata": {},
     "output_type": "execute_result"
    }
   ],
   "source": [
    "calculate_return(eq_w)"
   ]
  },
  {
   "cell_type": "code",
   "execution_count": 24,
   "metadata": {},
   "outputs": [
    {
     "data": {
      "text/plain": [
       "0.1832596455608185"
      ]
     },
     "execution_count": 24,
     "metadata": {},
     "output_type": "execute_result"
    }
   ],
   "source": [
    "calculate_std_dev(eq_w)"
   ]
  },
  {
   "cell_type": "code",
   "execution_count": 25,
   "metadata": {},
   "outputs": [
    {
     "data": {
      "text/plain": [
       "0.5906549096616234"
      ]
     },
     "execution_count": 25,
     "metadata": {},
     "output_type": "execute_result"
    }
   ],
   "source": [
    "calculate_sharpe(eq_w)"
   ]
  }
 ],
 "metadata": {
  "kernelspec": {
   "display_name": "Python 3",
   "language": "python",
   "name": "python3"
  },
  "language_info": {
   "codemirror_mode": {
    "name": "ipython",
    "version": 3
   },
   "file_extension": ".py",
   "mimetype": "text/x-python",
   "name": "python",
   "nbconvert_exporter": "python",
   "pygments_lexer": "ipython3",
   "version": "3.8.8"
  }
 },
 "nbformat": 4,
 "nbformat_minor": 4
}
