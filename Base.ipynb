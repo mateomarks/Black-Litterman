{
 "cells": [
  {
   "cell_type": "markdown",
   "metadata": {},
   "source": [
    "# Artificial Intelligence generated views on the Black-Litterman model"
   ]
  },
  {
   "cell_type": "markdown",
   "metadata": {},
   "source": [
    "## Import rquired packages"
   ]
  },
  {
   "cell_type": "code",
   "execution_count": 1,
   "metadata": {},
   "outputs": [],
   "source": [
    "import pandas as pd\n",
    "import numpy as np\n",
    "import matplotlib.pyplot as plt\n",
    "import seaborn as sns\n",
    "import math"
   ]
  },
  {
   "cell_type": "markdown",
   "metadata": {},
   "source": [
    "### Graph Formatting"
   ]
  },
  {
   "cell_type": "code",
   "execution_count": 2,
   "metadata": {},
   "outputs": [],
   "source": [
    "plt.style.use('seaborn')\n",
    "plt.rcParams['font.family'] = 'serif'\n",
    "%matplotlib inline\n",
    "\n",
    "SMALL_SIZE = 14; MEDIUM_SIZE = 16; BIGGER_SIZE = 18\n",
    "\n",
    "plt.rc('font', size=SMALL_SIZE)          # controls default text sizes\n",
    "plt.rc('axes', titlesize=SMALL_SIZE)     # fontsize of the axes title\n",
    "plt.rc('axes', labelsize=MEDIUM_SIZE)    # fontsize of the x and y labels\n",
    "plt.rc('xtick', labelsize=SMALL_SIZE)    # fontsize of the tick labels\n",
    "plt.rc('ytick', labelsize=SMALL_SIZE)    # fontsize of the tick labels\n",
    "plt.rc('legend', fontsize=SMALL_SIZE)    # legend fontsize\n",
    "plt.rc('figure', titlesize=BIGGER_SIZE)  # fontsize of the figure title\n",
    "plt.rc('figure', figsize=(10,6))         # size fo the graph"
   ]
  },
  {
   "cell_type": "markdown",
   "metadata": {},
   "source": [
    "## Import the data"
   ]
  },
  {
   "cell_type": "markdown",
   "metadata": {},
   "source": [
    "Categories construction: Assigns each NYSE, AMEX, and NASDAQ stock to an industry portfolio at the end of June of year t based on its four-digit SIC code at that time. (Uses Compustat SIC codes for the fiscal year ending in calendar year t-1. Whenever Compustat SIC codes are not available, uses CRSP SIC codes for June of year t.) Then computes returns from July of t to June of t+1\n",
    " \n",
    " 1. NoDur  Consumer Nondurables -- Food, Tobacco, Textiles, Apparel, Leather, Toys\n",
    " 2. Durbl  Consumer Durables -- Cars, TVs, Furniture, Household Appliances\n",
    " 3. Manuf  Manufacturing -- Machinery, Trucks, Planes, Chemicals, Off Furn, Paper, Com Printing\n",
    " 4. Enrgy  Oil, Gas, and Coal Extraction and Products\n",
    " 5. HiTec  Business Equipment -- Computers, Software, and Electronic Equipment\n",
    " 6. Telcm  Telephone and Television Transmission\n",
    " 7. Shops  Wholesale, Retail, and Some Services (Laundries, Repair Shops)\n",
    " 8. Hlth   Healthcare, Medical Equipment, and Drugs\n",
    " 9. Utils  Utilities\n",
    " 10. Other -- Other Mines, Constr, BldMt, Trans, Hotels, Bus Serv, Entertainment, Finance"
   ]
  },
  {
   "cell_type": "markdown",
   "metadata": {},
   "source": [
    "Source: https://mba.tuck.dartmouth.edu/pages/faculty/ken.french/Data_Library/det_10_ind_port.html"
   ]
  },
  {
   "cell_type": "code",
   "execution_count": 3,
   "metadata": {},
   "outputs": [],
   "source": [
    "class DataImporter:\n",
    "    excel_file = \"10_Industry_Portfolios.xls\"\n",
    "    def __init__(self):\n",
    "        self.raw = {}\n",
    "        self.raw['rets'] = self.get_data(0)\n",
    "        self.raw['nfirms'] = self.get_data(1)\n",
    "        self.raw['avg_size'] = self.get_data(2)\n",
    "        self.raw['mktcap'] = pd.DataFrame(self.raw['nfirms'] * self.raw['avg_size'])\n",
    "        self.n_industries = len(self.raw['rets'].columns) \n",
    "        self.industries = self.raw['rets'].columns\n",
    "    def get_data(self,sheet):\n",
    "        raw = pd.read_excel(self.excel_file, header=0, \\\n",
    "                       index_col=0, na_values=-99.99, sheet_name=sheet)/100\n",
    "        raw.index = pd.to_datetime(raw.index, format=\"%Y%m\").to_period('M')\n",
    "        return raw\n",
    "    def aux_division(self,split,parameter):\n",
    "        self.train[parameter] = self.raw[parameter].iloc[:split].copy()\n",
    "        self.test[parameter] = self.raw[parameter].iloc[split:].copy()\n",
    "    \n",
    "    def divide_data(self,split_percent=0.9):\n",
    "        split = int(len(self.raw['rets']) * split_percent)\n",
    "        self.train = {}\n",
    "        self.test = {}\n",
    "        self.aux_division(split,'rets')\n",
    "        self.aux_division(split,'nfirms')\n",
    "        self.aux_division(split,'avg_size')\n",
    "        self.aux_division(split,'mktcap')\n",
    "        "
   ]
  },
  {
   "cell_type": "code",
   "execution_count": 4,
   "metadata": {},
   "outputs": [],
   "source": [
    "original_data = DataImporter()"
   ]
  },
  {
   "cell_type": "code",
   "execution_count": 5,
   "metadata": {},
   "outputs": [],
   "source": [
    "original_data.divide_data()"
   ]
  },
  {
   "cell_type": "code",
   "execution_count": 6,
   "metadata": {},
   "outputs": [
    {
     "data": {
      "text/html": [
       "<div>\n",
       "<style scoped>\n",
       "    .dataframe tbody tr th:only-of-type {\n",
       "        vertical-align: middle;\n",
       "    }\n",
       "\n",
       "    .dataframe tbody tr th {\n",
       "        vertical-align: top;\n",
       "    }\n",
       "\n",
       "    .dataframe thead th {\n",
       "        text-align: right;\n",
       "    }\n",
       "</style>\n",
       "<table border=\"1\" class=\"dataframe\">\n",
       "  <thead>\n",
       "    <tr style=\"text-align: right;\">\n",
       "      <th></th>\n",
       "      <th>NoDur</th>\n",
       "      <th>Durbl</th>\n",
       "      <th>Manuf</th>\n",
       "      <th>Enrgy</th>\n",
       "      <th>HiTec</th>\n",
       "      <th>Telcm</th>\n",
       "      <th>Shops</th>\n",
       "      <th>Hlth</th>\n",
       "      <th>Utils</th>\n",
       "      <th>Other</th>\n",
       "    </tr>\n",
       "  </thead>\n",
       "  <tbody>\n",
       "    <tr>\n",
       "      <th>2011-04</th>\n",
       "      <td>0.0459</td>\n",
       "      <td>0.0222</td>\n",
       "      <td>0.0299</td>\n",
       "      <td>0.0130</td>\n",
       "      <td>0.0311</td>\n",
       "      <td>0.0341</td>\n",
       "      <td>0.0453</td>\n",
       "      <td>0.0638</td>\n",
       "      <td>0.0399</td>\n",
       "      <td>0.0111</td>\n",
       "    </tr>\n",
       "    <tr>\n",
       "      <th>2011-05</th>\n",
       "      <td>0.0193</td>\n",
       "      <td>-0.0354</td>\n",
       "      <td>-0.0215</td>\n",
       "      <td>-0.0456</td>\n",
       "      <td>-0.0166</td>\n",
       "      <td>0.0077</td>\n",
       "      <td>0.0083</td>\n",
       "      <td>0.0197</td>\n",
       "      <td>0.0130</td>\n",
       "      <td>-0.0239</td>\n",
       "    </tr>\n",
       "    <tr>\n",
       "      <th>2011-06</th>\n",
       "      <td>-0.0101</td>\n",
       "      <td>-0.0123</td>\n",
       "      <td>-0.0059</td>\n",
       "      <td>-0.0249</td>\n",
       "      <td>-0.0233</td>\n",
       "      <td>-0.0124</td>\n",
       "      <td>-0.0089</td>\n",
       "      <td>-0.0183</td>\n",
       "      <td>-0.0034</td>\n",
       "      <td>-0.0206</td>\n",
       "    </tr>\n",
       "    <tr>\n",
       "      <th>2011-07</th>\n",
       "      <td>-0.0043</td>\n",
       "      <td>-0.0891</td>\n",
       "      <td>-0.0470</td>\n",
       "      <td>0.0051</td>\n",
       "      <td>-0.0037</td>\n",
       "      <td>-0.0503</td>\n",
       "      <td>-0.0067</td>\n",
       "      <td>-0.0365</td>\n",
       "      <td>-0.0035</td>\n",
       "      <td>-0.0376</td>\n",
       "    </tr>\n",
       "    <tr>\n",
       "      <th>2011-08</th>\n",
       "      <td>-0.0068</td>\n",
       "      <td>-0.1200</td>\n",
       "      <td>-0.0609</td>\n",
       "      <td>-0.1011</td>\n",
       "      <td>-0.0689</td>\n",
       "      <td>-0.0545</td>\n",
       "      <td>-0.0288</td>\n",
       "      <td>-0.0310</td>\n",
       "      <td>0.0014</td>\n",
       "      <td>-0.0761</td>\n",
       "    </tr>\n",
       "  </tbody>\n",
       "</table>\n",
       "</div>"
      ],
      "text/plain": [
       "          NoDur   Durbl   Manuf   Enrgy   HiTec   Telcm   Shops    Hlth  \\\n",
       "2011-04  0.0459  0.0222  0.0299  0.0130  0.0311  0.0341  0.0453  0.0638   \n",
       "2011-05  0.0193 -0.0354 -0.0215 -0.0456 -0.0166  0.0077  0.0083  0.0197   \n",
       "2011-06 -0.0101 -0.0123 -0.0059 -0.0249 -0.0233 -0.0124 -0.0089 -0.0183   \n",
       "2011-07 -0.0043 -0.0891 -0.0470  0.0051 -0.0037 -0.0503 -0.0067 -0.0365   \n",
       "2011-08 -0.0068 -0.1200 -0.0609 -0.1011 -0.0689 -0.0545 -0.0288 -0.0310   \n",
       "\n",
       "          Utils   Other  \n",
       "2011-04  0.0399  0.0111  \n",
       "2011-05  0.0130 -0.0239  \n",
       "2011-06 -0.0034 -0.0206  \n",
       "2011-07 -0.0035 -0.0376  \n",
       "2011-08  0.0014 -0.0761  "
      ]
     },
     "execution_count": 6,
     "metadata": {},
     "output_type": "execute_result"
    }
   ],
   "source": [
    "original_data.train['rets'].tail()"
   ]
  },
  {
   "cell_type": "raw",
   "metadata": {},
   "source": [
    "original_data.train_nfirms.tail(1).T\n",
    "nf = pd.DataFrame(original_data.train_nfirms.tail(1).T)\n",
    "nf.columns = [\"nfirms\"]\n",
    "avs = pd.DataFrame(original_data.train_avg_size.tail(1).T)\n",
    "avs.columns=[\"avg_size\"]\n",
    "aux_plot = pd.concat([nf, avs], axis=1)"
   ]
  },
  {
   "cell_type": "raw",
   "metadata": {},
   "source": [
    "f, ax = plt.subplots(figsize=(6.5, 6.5))\n",
    "sns.scatterplot(x=\"nfirms\", y=\"avg_size\",\n",
    "                data=aux_plot, ax=ax);"
   ]
  },
  {
   "cell_type": "code",
   "execution_count": 7,
   "metadata": {},
   "outputs": [
    {
     "data": {
      "image/png": "[encoded data removed]",
      "text/plain": [
       "<Figure size 720x432 with 1 Axes>"
      ]
     },
     "metadata": {
      "needs_background": "light"
     },
     "output_type": "display_data"
    }
   ],
   "source": [
    "ax = sns.barplot( data=original_data.train['nfirms'].tail(1))"
   ]
  },
  {
   "cell_type": "code",
   "execution_count": 8,
   "metadata": {},
   "outputs": [
    {
     "data": {
      "image/png": "[encoded data removed]",
      "text/plain": [
       "<Figure size 720x432 with 1 Axes>"
      ]
     },
     "metadata": {
      "needs_background": "light"
     },
     "output_type": "display_data"
    }
   ],
   "source": [
    "ax = sns.barplot( data=original_data.train['mktcap'].tail(1))"
   ]
  },
  {
   "cell_type": "markdown",
   "metadata": {},
   "source": [
    "## Explore the data"
   ]
  },
  {
   "cell_type": "code",
   "execution_count": 9,
   "metadata": {},
   "outputs": [
    {
     "data": {
      "text/html": [
       "<div>\n",
       "<style scoped>\n",
       "    .dataframe tbody tr th:only-of-type {\n",
       "        vertical-align: middle;\n",
       "    }\n",
       "\n",
       "    .dataframe tbody tr th {\n",
       "        vertical-align: top;\n",
       "    }\n",
       "\n",
       "    .dataframe thead th {\n",
       "        text-align: right;\n",
       "    }\n",
       "</style>\n",
       "<table border=\"1\" class=\"dataframe\">\n",
       "  <thead>\n",
       "    <tr style=\"text-align: right;\">\n",
       "      <th></th>\n",
       "      <th>NoDur</th>\n",
       "      <th>Durbl</th>\n",
       "      <th>Manuf</th>\n",
       "      <th>Enrgy</th>\n",
       "      <th>HiTec</th>\n",
       "      <th>Telcm</th>\n",
       "      <th>Shops</th>\n",
       "      <th>Hlth</th>\n",
       "      <th>Utils</th>\n",
       "      <th>Other</th>\n",
       "    </tr>\n",
       "  </thead>\n",
       "  <tbody>\n",
       "    <tr>\n",
       "      <th>count</th>\n",
       "      <td>1022.000000</td>\n",
       "      <td>1022.000000</td>\n",
       "      <td>1022.000000</td>\n",
       "      <td>1022.000000</td>\n",
       "      <td>1022.000000</td>\n",
       "      <td>1022.000000</td>\n",
       "      <td>1022.000000</td>\n",
       "      <td>1022.000000</td>\n",
       "      <td>1022.000000</td>\n",
       "      <td>1022.000000</td>\n",
       "    </tr>\n",
       "    <tr>\n",
       "      <th>mean</th>\n",
       "      <td>0.009713</td>\n",
       "      <td>0.010794</td>\n",
       "      <td>0.010155</td>\n",
       "      <td>0.010631</td>\n",
       "      <td>0.010799</td>\n",
       "      <td>0.008327</td>\n",
       "      <td>0.009902</td>\n",
       "      <td>0.010616</td>\n",
       "      <td>0.008805</td>\n",
       "      <td>0.008794</td>\n",
       "    </tr>\n",
       "    <tr>\n",
       "      <th>std</th>\n",
       "      <td>0.046867</td>\n",
       "      <td>0.078084</td>\n",
       "      <td>0.063800</td>\n",
       "      <td>0.061173</td>\n",
       "      <td>0.074262</td>\n",
       "      <td>0.046643</td>\n",
       "      <td>0.059612</td>\n",
       "      <td>0.056860</td>\n",
       "      <td>0.056538</td>\n",
       "      <td>0.065589</td>\n",
       "    </tr>\n",
       "    <tr>\n",
       "      <th>min</th>\n",
       "      <td>-0.246900</td>\n",
       "      <td>-0.348000</td>\n",
       "      <td>-0.298200</td>\n",
       "      <td>-0.298400</td>\n",
       "      <td>-0.338700</td>\n",
       "      <td>-0.215600</td>\n",
       "      <td>-0.302400</td>\n",
       "      <td>-0.340800</td>\n",
       "      <td>-0.330500</td>\n",
       "      <td>-0.300300</td>\n",
       "    </tr>\n",
       "    <tr>\n",
       "      <th>25%</th>\n",
       "      <td>-0.014000</td>\n",
       "      <td>-0.027775</td>\n",
       "      <td>-0.020900</td>\n",
       "      <td>-0.023700</td>\n",
       "      <td>-0.028075</td>\n",
       "      <td>-0.013850</td>\n",
       "      <td>-0.021500</td>\n",
       "      <td>-0.019875</td>\n",
       "      <td>-0.016875</td>\n",
       "      <td>-0.021975</td>\n",
       "    </tr>\n",
       "    <tr>\n",
       "      <th>50%</th>\n",
       "      <td>0.010950</td>\n",
       "      <td>0.010050</td>\n",
       "      <td>0.013800</td>\n",
       "      <td>0.008900</td>\n",
       "      <td>0.012600</td>\n",
       "      <td>0.009000</td>\n",
       "      <td>0.011150</td>\n",
       "      <td>0.010850</td>\n",
       "      <td>0.010500</td>\n",
       "      <td>0.012450</td>\n",
       "    </tr>\n",
       "    <tr>\n",
       "      <th>75%</th>\n",
       "      <td>0.036700</td>\n",
       "      <td>0.048400</td>\n",
       "      <td>0.043275</td>\n",
       "      <td>0.046175</td>\n",
       "      <td>0.050675</td>\n",
       "      <td>0.032075</td>\n",
       "      <td>0.041325</td>\n",
       "      <td>0.040850</td>\n",
       "      <td>0.036275</td>\n",
       "      <td>0.042500</td>\n",
       "    </tr>\n",
       "    <tr>\n",
       "      <th>max</th>\n",
       "      <td>0.341700</td>\n",
       "      <td>0.797900</td>\n",
       "      <td>0.572000</td>\n",
       "      <td>0.389900</td>\n",
       "      <td>0.534900</td>\n",
       "      <td>0.281700</td>\n",
       "      <td>0.424500</td>\n",
       "      <td>0.371300</td>\n",
       "      <td>0.434600</td>\n",
       "      <td>0.587500</td>\n",
       "    </tr>\n",
       "  </tbody>\n",
       "</table>\n",
       "</div>"
      ],
      "text/plain": [
       "             NoDur        Durbl        Manuf        Enrgy        HiTec  \\\n",
       "count  1022.000000  1022.000000  1022.000000  1022.000000  1022.000000   \n",
       "mean      0.009713     0.010794     0.010155     0.010631     0.010799   \n",
       "std       0.046867     0.078084     0.063800     0.061173     0.074262   \n",
       "min      -0.246900    -0.348000    -0.298200    -0.298400    -0.338700   \n",
       "25%      -0.014000    -0.027775    -0.020900    -0.023700    -0.028075   \n",
       "50%       0.010950     0.010050     0.013800     0.008900     0.012600   \n",
       "75%       0.036700     0.048400     0.043275     0.046175     0.050675   \n",
       "max       0.341700     0.797900     0.572000     0.389900     0.534900   \n",
       "\n",
       "             Telcm        Shops         Hlth        Utils        Other  \n",
       "count  1022.000000  1022.000000  1022.000000  1022.000000  1022.000000  \n",
       "mean      0.008327     0.009902     0.010616     0.008805     0.008794  \n",
       "std       0.046643     0.059612     0.056860     0.056538     0.065589  \n",
       "min      -0.215600    -0.302400    -0.340800    -0.330500    -0.300300  \n",
       "25%      -0.013850    -0.021500    -0.019875    -0.016875    -0.021975  \n",
       "50%       0.009000     0.011150     0.010850     0.010500     0.012450  \n",
       "75%       0.032075     0.041325     0.040850     0.036275     0.042500  \n",
       "max       0.281700     0.424500     0.371300     0.434600     0.587500  "
      ]
     },
     "execution_count": 9,
     "metadata": {},
     "output_type": "execute_result"
    }
   ],
   "source": [
    "original_data.train['rets'].describe()"
   ]
  },
  {
   "cell_type": "code",
   "execution_count": 10,
   "metadata": {},
   "outputs": [
    {
     "data": {
      "image/png": "[encoded data removed]",
      "text/plain": [
       "<Figure size 864x576 with 2 Axes>"
      ]
     },
     "metadata": {
      "needs_background": "light"
     },
     "output_type": "display_data"
    }
   ],
   "source": [
    "f, ax = plt.subplots(figsize=(12, 8))\n",
    "sns.heatmap(original_data.train['rets'].corr().round(1), cmap=sns.color_palette('Blues'), annot=True, linewidths=.5, ax=ax);"
   ]
  },
  {
   "cell_type": "code",
   "execution_count": 11,
   "metadata": {},
   "outputs": [],
   "source": [
    "total_mktcap = original_data.train['mktcap'].sum(axis=1)\n",
    "ind_capweight = original_data.train['mktcap'].divide(total_mktcap, axis=\"rows\")\n",
    "w = ind_capweight.tail(1)"
   ]
  },
  {
   "cell_type": "code",
   "execution_count": 12,
   "metadata": {},
   "outputs": [
    {
     "data": {
      "text/html": [
       "<div>\n",
       "<style scoped>\n",
       "    .dataframe tbody tr th:only-of-type {\n",
       "        vertical-align: middle;\n",
       "    }\n",
       "\n",
       "    .dataframe tbody tr th {\n",
       "        vertical-align: top;\n",
       "    }\n",
       "\n",
       "    .dataframe thead th {\n",
       "        text-align: right;\n",
       "    }\n",
       "</style>\n",
       "<table border=\"1\" class=\"dataframe\">\n",
       "  <thead>\n",
       "    <tr style=\"text-align: right;\">\n",
       "      <th></th>\n",
       "      <th>NoDur</th>\n",
       "      <th>Durbl</th>\n",
       "      <th>Manuf</th>\n",
       "      <th>Enrgy</th>\n",
       "      <th>HiTec</th>\n",
       "      <th>Telcm</th>\n",
       "      <th>Shops</th>\n",
       "      <th>Hlth</th>\n",
       "      <th>Utils</th>\n",
       "      <th>Other</th>\n",
       "    </tr>\n",
       "  </thead>\n",
       "  <tbody>\n",
       "    <tr>\n",
       "      <th>2011-08</th>\n",
       "      <td>0.066034</td>\n",
       "      <td>0.015424</td>\n",
       "      <td>0.115712</td>\n",
       "      <td>0.099479</td>\n",
       "      <td>0.19181</td>\n",
       "      <td>0.052135</td>\n",
       "      <td>0.089527</td>\n",
       "      <td>0.087606</td>\n",
       "      <td>0.039253</td>\n",
       "      <td>0.243021</td>\n",
       "    </tr>\n",
       "  </tbody>\n",
       "</table>\n",
       "</div>"
      ],
      "text/plain": [
       "            NoDur     Durbl     Manuf     Enrgy    HiTec     Telcm     Shops  \\\n",
       "2011-08  0.066034  0.015424  0.115712  0.099479  0.19181  0.052135  0.089527   \n",
       "\n",
       "             Hlth     Utils     Other  \n",
       "2011-08  0.087606  0.039253  0.243021  "
      ]
     },
     "execution_count": 12,
     "metadata": {},
     "output_type": "execute_result"
    }
   ],
   "source": [
    "w"
   ]
  },
  {
   "cell_type": "markdown",
   "metadata": {},
   "source": [
    "## Basic Calculations"
   ]
  },
  {
   "cell_type": "code",
   "execution_count": 13,
   "metadata": {},
   "outputs": [],
   "source": [
    "# Initial Weights\n",
    "ind = original_data.n_industries\n",
    "eq_w = ind * [1 / ind]\n",
    "\n",
    "#Risk Free\n",
    "rf = 0.01\n",
    "\n",
    "def calculate_return(weights):\n",
    "    return np.dot(original_data.train['rets'].mean(), weights) * 12\n",
    "\n",
    "def calculate_std_dev(weights):\n",
    "    return math.sqrt(np.dot(weights, np.dot(original_data.train['rets'].cov(), weights)) * 12)\n",
    "\n",
    "def calculate_sharpe(weights):\n",
    "    return (calculate_return(weights) - rf) / calculate_std_dev(weights)"
   ]
  },
  {
   "cell_type": "code",
   "execution_count": 14,
   "metadata": {},
   "outputs": [
    {
     "data": {
      "text/plain": [
       "0.11824320939334637"
      ]
     },
     "execution_count": 14,
     "metadata": {},
     "output_type": "execute_result"
    }
   ],
   "source": [
    "calculate_return(eq_w)"
   ]
  },
  {
   "cell_type": "code",
   "execution_count": 15,
   "metadata": {},
   "outputs": [
    {
     "data": {
      "text/plain": [
       "0.1832596455608185"
      ]
     },
     "execution_count": 15,
     "metadata": {},
     "output_type": "execute_result"
    }
   ],
   "source": [
    "calculate_std_dev(eq_w)"
   ]
  },
  {
   "cell_type": "code",
   "execution_count": 16,
   "metadata": {},
   "outputs": [
    {
     "data": {
      "text/plain": [
       "0.5906549096616234"
      ]
     },
     "execution_count": 16,
     "metadata": {},
     "output_type": "execute_result"
    }
   ],
   "source": [
    "calculate_sharpe(eq_w)"
   ]
  },
  {
   "cell_type": "markdown",
   "metadata": {},
   "source": [
    "Recall that the first step in the Black Litterman procedure was to reverse engineer the implied returns vector $\\pi$ from a set of portfolio weights $w$. \n",
    "\n",
    "$$\\pi = \\delta\\Sigma w$$\n",
    "\n",
    "This is performed by the following code:"
   ]
  },
  {
   "cell_type": "code",
   "execution_count": 17,
   "metadata": {},
   "outputs": [],
   "source": [
    "delta = 3\n",
    "sigma = original_data.train['rets'].cov() * 12"
   ]
  },
  {
   "cell_type": "code",
   "execution_count": 18,
   "metadata": {},
   "outputs": [
    {
     "data": {
      "text/plain": [
       "numpy.ndarray"
      ]
     },
     "execution_count": 18,
     "metadata": {},
     "output_type": "execute_result"
    }
   ],
   "source": [
    "#eq_return = pd.DataFrame(delta * np.dot(sigma,w.T), index=nfirms.columns,columns=[\"eq_return\"])\n",
    "eq_return = delta * np.dot(sigma,w.T)\n",
    "type(eq_return)"
   ]
  },
  {
   "cell_type": "markdown",
   "metadata": {},
   "source": [
    "### The Black Litterman Formulas\n",
    "\n",
    "Assume that we have $N$ assets, and $K$ views. There are two sets of inputs to the procedure. The first set of inputs relate to market parameters and these are:\n",
    "\n",
    "\\begin{array}{ll}\n",
    "w & \\mbox{A Column Vector ($N \\times 1$) of Equilibrium Market Weights of the Assets} \\\\\n",
    "\\Sigma & \\mbox{A Covariance Matrix ($N \\times N$) of the Assets} \\\\\n",
    "R_f & \\mbox{The Risk Free Rate} \\\\\n",
    "\\delta & \\mbox{The investor's Risk Aversion parameter}  \\\\\n",
    "\\tau & \\mbox{A scalar indicating the uncertainty of the prior (details below)}\n",
    "\\end{array}"
   ]
  },
  {
   "cell_type": "code",
   "execution_count": 19,
   "metadata": {},
   "outputs": [
    {
     "data": {
      "text/plain": [
       "10"
      ]
     },
     "execution_count": 19,
     "metadata": {},
     "output_type": "execute_result"
    }
   ],
   "source": [
    "# Number of Assets\n",
    "noa = original_data.n_industries\n",
    "noa"
   ]
  },
  {
   "cell_type": "code",
   "execution_count": 20,
   "metadata": {},
   "outputs": [
    {
     "data": {
      "text/plain": [
       "NoDur    0.116550\n",
       "Durbl    0.129532\n",
       "Manuf    0.121855\n",
       "Enrgy    0.127571\n",
       "HiTec    0.129591\n",
       "Telcm    0.099923\n",
       "Shops    0.118825\n",
       "Hlth     0.127390\n",
       "Utils    0.105662\n",
       "Other    0.105533\n",
       "dtype: float64"
      ]
     },
     "execution_count": 20,
     "metadata": {},
     "output_type": "execute_result"
    }
   ],
   "source": [
    "mu = original_data.train['rets'].mean() * 12\n",
    "mu"
   ]
  },
  {
   "cell_type": "code",
   "execution_count": 21,
   "metadata": {},
   "outputs": [
    {
     "data": {
      "text/html": [
       "<div>\n",
       "<style scoped>\n",
       "    .dataframe tbody tr th:only-of-type {\n",
       "        vertical-align: middle;\n",
       "    }\n",
       "\n",
       "    .dataframe tbody tr th {\n",
       "        vertical-align: top;\n",
       "    }\n",
       "\n",
       "    .dataframe thead th {\n",
       "        text-align: right;\n",
       "    }\n",
       "</style>\n",
       "<table border=\"1\" class=\"dataframe\">\n",
       "  <thead>\n",
       "    <tr style=\"text-align: right;\">\n",
       "      <th></th>\n",
       "      <th>NoDur</th>\n",
       "      <th>Durbl</th>\n",
       "      <th>Manuf</th>\n",
       "      <th>Enrgy</th>\n",
       "      <th>HiTec</th>\n",
       "      <th>Telcm</th>\n",
       "      <th>Shops</th>\n",
       "      <th>Hlth</th>\n",
       "      <th>Utils</th>\n",
       "      <th>Other</th>\n",
       "    </tr>\n",
       "  </thead>\n",
       "  <tbody>\n",
       "    <tr>\n",
       "      <th>NoDur</th>\n",
       "      <td>0.026358</td>\n",
       "      <td>0.032951</td>\n",
       "      <td>0.030626</td>\n",
       "      <td>0.021631</td>\n",
       "      <td>0.030926</td>\n",
       "      <td>0.017780</td>\n",
       "      <td>0.029174</td>\n",
       "      <td>0.025720</td>\n",
       "      <td>0.022601</td>\n",
       "      <td>0.031289</td>\n",
       "    </tr>\n",
       "    <tr>\n",
       "      <th>Durbl</th>\n",
       "      <td>0.032951</td>\n",
       "      <td>0.073165</td>\n",
       "      <td>0.052229</td>\n",
       "      <td>0.035517</td>\n",
       "      <td>0.054146</td>\n",
       "      <td>0.027761</td>\n",
       "      <td>0.044814</td>\n",
       "      <td>0.034021</td>\n",
       "      <td>0.033261</td>\n",
       "      <td>0.049556</td>\n",
       "    </tr>\n",
       "    <tr>\n",
       "      <th>Manuf</th>\n",
       "      <td>0.030626</td>\n",
       "      <td>0.052229</td>\n",
       "      <td>0.048846</td>\n",
       "      <td>0.034527</td>\n",
       "      <td>0.049147</td>\n",
       "      <td>0.024513</td>\n",
       "      <td>0.038823</td>\n",
       "      <td>0.033099</td>\n",
       "      <td>0.030505</td>\n",
       "      <td>0.045582</td>\n",
       "    </tr>\n",
       "    <tr>\n",
       "      <th>Enrgy</th>\n",
       "      <td>0.021631</td>\n",
       "      <td>0.035517</td>\n",
       "      <td>0.034527</td>\n",
       "      <td>0.044906</td>\n",
       "      <td>0.033889</td>\n",
       "      <td>0.017606</td>\n",
       "      <td>0.026046</td>\n",
       "      <td>0.023832</td>\n",
       "      <td>0.026032</td>\n",
       "      <td>0.033554</td>\n",
       "    </tr>\n",
       "    <tr>\n",
       "      <th>HiTec</th>\n",
       "      <td>0.030926</td>\n",
       "      <td>0.054146</td>\n",
       "      <td>0.049147</td>\n",
       "      <td>0.033889</td>\n",
       "      <td>0.066179</td>\n",
       "      <td>0.028541</td>\n",
       "      <td>0.042206</td>\n",
       "      <td>0.036625</td>\n",
       "      <td>0.031587</td>\n",
       "      <td>0.046843</td>\n",
       "    </tr>\n",
       "    <tr>\n",
       "      <th>Telcm</th>\n",
       "      <td>0.017780</td>\n",
       "      <td>0.027761</td>\n",
       "      <td>0.024513</td>\n",
       "      <td>0.017606</td>\n",
       "      <td>0.028541</td>\n",
       "      <td>0.026107</td>\n",
       "      <td>0.022677</td>\n",
       "      <td>0.019218</td>\n",
       "      <td>0.020160</td>\n",
       "      <td>0.025922</td>\n",
       "    </tr>\n",
       "    <tr>\n",
       "      <th>Shops</th>\n",
       "      <td>0.029174</td>\n",
       "      <td>0.044814</td>\n",
       "      <td>0.038823</td>\n",
       "      <td>0.026046</td>\n",
       "      <td>0.042206</td>\n",
       "      <td>0.022677</td>\n",
       "      <td>0.042642</td>\n",
       "      <td>0.030259</td>\n",
       "      <td>0.026617</td>\n",
       "      <td>0.038874</td>\n",
       "    </tr>\n",
       "    <tr>\n",
       "      <th>Hlth</th>\n",
       "      <td>0.025720</td>\n",
       "      <td>0.034021</td>\n",
       "      <td>0.033099</td>\n",
       "      <td>0.023832</td>\n",
       "      <td>0.036625</td>\n",
       "      <td>0.019218</td>\n",
       "      <td>0.030259</td>\n",
       "      <td>0.038797</td>\n",
       "      <td>0.024206</td>\n",
       "      <td>0.033121</td>\n",
       "    </tr>\n",
       "    <tr>\n",
       "      <th>Utils</th>\n",
       "      <td>0.022601</td>\n",
       "      <td>0.033261</td>\n",
       "      <td>0.030505</td>\n",
       "      <td>0.026032</td>\n",
       "      <td>0.031587</td>\n",
       "      <td>0.020160</td>\n",
       "      <td>0.026617</td>\n",
       "      <td>0.024206</td>\n",
       "      <td>0.038359</td>\n",
       "      <td>0.032699</td>\n",
       "    </tr>\n",
       "    <tr>\n",
       "      <th>Other</th>\n",
       "      <td>0.031289</td>\n",
       "      <td>0.049556</td>\n",
       "      <td>0.045582</td>\n",
       "      <td>0.033554</td>\n",
       "      <td>0.046843</td>\n",
       "      <td>0.025922</td>\n",
       "      <td>0.038874</td>\n",
       "      <td>0.033121</td>\n",
       "      <td>0.032699</td>\n",
       "      <td>0.051623</td>\n",
       "    </tr>\n",
       "  </tbody>\n",
       "</table>\n",
       "</div>"
      ],
      "text/plain": [
       "          NoDur     Durbl     Manuf     Enrgy     HiTec     Telcm     Shops  \\\n",
       "NoDur  0.026358  0.032951  0.030626  0.021631  0.030926  0.017780  0.029174   \n",
       "Durbl  0.032951  0.073165  0.052229  0.035517  0.054146  0.027761  0.044814   \n",
       "Manuf  0.030626  0.052229  0.048846  0.034527  0.049147  0.024513  0.038823   \n",
       "Enrgy  0.021631  0.035517  0.034527  0.044906  0.033889  0.017606  0.026046   \n",
       "HiTec  0.030926  0.054146  0.049147  0.033889  0.066179  0.028541  0.042206   \n",
       "Telcm  0.017780  0.027761  0.024513  0.017606  0.028541  0.026107  0.022677   \n",
       "Shops  0.029174  0.044814  0.038823  0.026046  0.042206  0.022677  0.042642   \n",
       "Hlth   0.025720  0.034021  0.033099  0.023832  0.036625  0.019218  0.030259   \n",
       "Utils  0.022601  0.033261  0.030505  0.026032  0.031587  0.020160  0.026617   \n",
       "Other  0.031289  0.049556  0.045582  0.033554  0.046843  0.025922  0.038874   \n",
       "\n",
       "           Hlth     Utils     Other  \n",
       "NoDur  0.025720  0.022601  0.031289  \n",
       "Durbl  0.034021  0.033261  0.049556  \n",
       "Manuf  0.033099  0.030505  0.045582  \n",
       "Enrgy  0.023832  0.026032  0.033554  \n",
       "HiTec  0.036625  0.031587  0.046843  \n",
       "Telcm  0.019218  0.020160  0.025922  \n",
       "Shops  0.030259  0.026617  0.038874  \n",
       "Hlth   0.038797  0.024206  0.033121  \n",
       "Utils  0.024206  0.038359  0.032699  \n",
       "Other  0.033121  0.032699  0.051623  "
      ]
     },
     "execution_count": 21,
     "metadata": {},
     "output_type": "execute_result"
    }
   ],
   "source": [
    "cov = original_data.train['rets'].cov() * 12\n",
    "cov"
   ]
  },
  {
   "cell_type": "code",
   "execution_count": null,
   "metadata": {},
   "outputs": [],
   "source": []
  },
  {
   "cell_type": "code",
   "execution_count": 22,
   "metadata": {},
   "outputs": [
    {
     "data": {
      "text/plain": [
       "10"
      ]
     },
     "execution_count": 22,
     "metadata": {},
     "output_type": "execute_result"
    }
   ],
   "source": [
    "mu = original_data.train['rets'].shape[1]\n",
    "mu"
   ]
  },
  {
   "cell_type": "markdown",
   "metadata": {},
   "source": [
    "The second set of inputs that the procedure needs is a representation of the investors views. These are specified via:\n",
    "\n",
    "\\begin{array}{ll}\n",
    "Q & \\mbox{An $K \\times 1$ ``Qualitative Views'' or simply, Views matrix} \\\\\n",
    "P & \\mbox{A $K \\times N$ ``Projection'' or ``Pick'' matrix, linking each view to the assets} \\\\\n",
    "\\Omega & \\mbox{A Covariance matrix representing the uncertainty of views}\n",
    "\\end{array}"
   ]
  },
  {
   "cell_type": "markdown",
   "metadata": {},
   "source": [
    "### Views"
   ]
  },
  {
   "cell_type": "markdown",
   "metadata": {},
   "source": [
    "#### Basics"
   ]
  },
  {
   "cell_type": "code",
   "execution_count": 23,
   "metadata": {},
   "outputs": [],
   "source": [
    "v = 1  # number of views"
   ]
  },
  {
   "cell_type": "code",
   "execution_count": 24,
   "metadata": {},
   "outputs": [
    {
     "data": {
      "text/html": [
       "<div>\n",
       "<style scoped>\n",
       "    .dataframe tbody tr th:only-of-type {\n",
       "        vertical-align: middle;\n",
       "    }\n",
       "\n",
       "    .dataframe tbody tr th {\n",
       "        vertical-align: top;\n",
       "    }\n",
       "\n",
       "    .dataframe thead th {\n",
       "        text-align: right;\n",
       "    }\n",
       "</style>\n",
       "<table border=\"1\" class=\"dataframe\">\n",
       "  <thead>\n",
       "    <tr style=\"text-align: right;\">\n",
       "      <th></th>\n",
       "      <th>NoDur</th>\n",
       "      <th>Durbl</th>\n",
       "      <th>Manuf</th>\n",
       "      <th>Enrgy</th>\n",
       "      <th>HiTec</th>\n",
       "      <th>Telcm</th>\n",
       "      <th>Shops</th>\n",
       "      <th>Hlth</th>\n",
       "      <th>Utils</th>\n",
       "      <th>Other</th>\n",
       "    </tr>\n",
       "  </thead>\n",
       "  <tbody>\n",
       "    <tr>\n",
       "      <th>0</th>\n",
       "      <td>0.0</td>\n",
       "      <td>0.0</td>\n",
       "      <td>0.0</td>\n",
       "      <td>0.0</td>\n",
       "      <td>0.0</td>\n",
       "      <td>0.0</td>\n",
       "      <td>0.0</td>\n",
       "      <td>0.0</td>\n",
       "      <td>0.0</td>\n",
       "      <td>0.0</td>\n",
       "    </tr>\n",
       "  </tbody>\n",
       "</table>\n",
       "</div>"
      ],
      "text/plain": [
       "   NoDur  Durbl  Manuf  Enrgy  HiTec  Telcm  Shops  Hlth  Utils  Other\n",
       "0    0.0    0.0    0.0    0.0    0.0    0.0    0.0   0.0    0.0    0.0"
      ]
     },
     "execution_count": 24,
     "metadata": {},
     "output_type": "execute_result"
    }
   ],
   "source": [
    "P = pd.DataFrame(np.zeros((v, noa)), columns=original_data.industries)\n",
    "P"
   ]
  },
  {
   "cell_type": "code",
   "execution_count": 25,
   "metadata": {},
   "outputs": [],
   "source": [
    "q = np.zeros(v)"
   ]
  },
  {
   "cell_type": "code",
   "execution_count": 26,
   "metadata": {},
   "outputs": [],
   "source": [
    "omega = np.zeros((v, v))"
   ]
  },
  {
   "cell_type": "markdown",
   "metadata": {},
   "source": [
    "#### Specific View"
   ]
  },
  {
   "cell_type": "code",
   "execution_count": 27,
   "metadata": {},
   "outputs": [],
   "source": [
    "P.loc[0, 'NoDur'] = 1"
   ]
  },
  {
   "cell_type": "code",
   "execution_count": 28,
   "metadata": {},
   "outputs": [],
   "source": [
    "P.loc[0, 'Manuf'] = -1"
   ]
  },
  {
   "cell_type": "code",
   "execution_count": 29,
   "metadata": {},
   "outputs": [],
   "source": [
    "q[0] = 0.02"
   ]
  },
  {
   "cell_type": "code",
   "execution_count": 30,
   "metadata": {},
   "outputs": [],
   "source": [
    "omega[0, 0] = 0.000001  # \"no\" variance"
   ]
  },
  {
   "cell_type": "code",
   "execution_count": 31,
   "metadata": {},
   "outputs": [
    {
     "data": {
      "text/html": [
       "<div>\n",
       "<style scoped>\n",
       "    .dataframe tbody tr th:only-of-type {\n",
       "        vertical-align: middle;\n",
       "    }\n",
       "\n",
       "    .dataframe tbody tr th {\n",
       "        vertical-align: top;\n",
       "    }\n",
       "\n",
       "    .dataframe thead th {\n",
       "        text-align: right;\n",
       "    }\n",
       "</style>\n",
       "<table border=\"1\" class=\"dataframe\">\n",
       "  <thead>\n",
       "    <tr style=\"text-align: right;\">\n",
       "      <th></th>\n",
       "      <th>NoDur</th>\n",
       "      <th>Durbl</th>\n",
       "      <th>Manuf</th>\n",
       "      <th>Enrgy</th>\n",
       "      <th>HiTec</th>\n",
       "      <th>Telcm</th>\n",
       "      <th>Shops</th>\n",
       "      <th>Hlth</th>\n",
       "      <th>Utils</th>\n",
       "      <th>Other</th>\n",
       "    </tr>\n",
       "  </thead>\n",
       "  <tbody>\n",
       "    <tr>\n",
       "      <th>0</th>\n",
       "      <td>1.0</td>\n",
       "      <td>0.0</td>\n",
       "      <td>-1.0</td>\n",
       "      <td>0.0</td>\n",
       "      <td>0.0</td>\n",
       "      <td>0.0</td>\n",
       "      <td>0.0</td>\n",
       "      <td>0.0</td>\n",
       "      <td>0.0</td>\n",
       "      <td>0.0</td>\n",
       "    </tr>\n",
       "  </tbody>\n",
       "</table>\n",
       "</div>"
      ],
      "text/plain": [
       "   NoDur  Durbl  Manuf  Enrgy  HiTec  Telcm  Shops  Hlth  Utils  Other\n",
       "0    1.0    0.0   -1.0    0.0    0.0    0.0    0.0   0.0    0.0    0.0"
      ]
     },
     "execution_count": 31,
     "metadata": {},
     "output_type": "execute_result"
    }
   ],
   "source": [
    "P"
   ]
  },
  {
   "cell_type": "code",
   "execution_count": 32,
   "metadata": {},
   "outputs": [],
   "source": [
    "tau = 1"
   ]
  },
  {
   "cell_type": "code",
   "execution_count": 33,
   "metadata": {},
   "outputs": [],
   "source": [
    "C = tau * cov"
   ]
  },
  {
   "cell_type": "markdown",
   "metadata": {},
   "source": [
    "### Calculations"
   ]
  },
  {
   "cell_type": "code",
   "execution_count": 34,
   "metadata": {},
   "outputs": [],
   "source": [
    "m1 = np.dot(P.T, np.dot(1 / omega, P)) + np.linalg.inv(C)"
   ]
  },
  {
   "cell_type": "code",
   "execution_count": 35,
   "metadata": {},
   "outputs": [
    {
     "data": {
      "text/plain": [
       "(10, 10)"
      ]
     },
     "execution_count": 35,
     "metadata": {},
     "output_type": "execute_result"
    }
   ],
   "source": [
    "m1.shape"
   ]
  },
  {
   "cell_type": "code",
   "execution_count": 36,
   "metadata": {},
   "outputs": [
    {
     "data": {
      "text/plain": [
       "(1, 1)"
      ]
     },
     "execution_count": 36,
     "metadata": {},
     "output_type": "execute_result"
    }
   ],
   "source": [
    "omega.shape"
   ]
  },
  {
   "cell_type": "code",
   "execution_count": 37,
   "metadata": {},
   "outputs": [
    {
     "data": {
      "text/plain": [
       "array([[0.08447829],\n",
       "       [0.13516605],\n",
       "       [0.12380942],\n",
       "       [0.09435758],\n",
       "       [0.13718413],\n",
       "       [0.07149152],\n",
       "       [0.10781742],\n",
       "       [0.09467394],\n",
       "       [0.08757068],\n",
       "       [0.12597054]])"
      ]
     },
     "execution_count": 37,
     "metadata": {},
     "output_type": "execute_result"
    }
   ],
   "source": [
    "eq_return"
   ]
  },
  {
   "cell_type": "code",
   "execution_count": 38,
   "metadata": {},
   "outputs": [],
   "source": [
    "mu = eq_return.reshape((noa,))   "
   ]
  },
  {
   "cell_type": "code",
   "execution_count": null,
   "metadata": {},
   "outputs": [],
   "source": []
  },
  {
   "cell_type": "code",
   "execution_count": 39,
   "metadata": {},
   "outputs": [
    {
     "data": {
      "text/plain": [
       "numpy.ndarray"
      ]
     },
     "execution_count": 39,
     "metadata": {},
     "output_type": "execute_result"
    }
   ],
   "source": [
    "type(mu)"
   ]
  },
  {
   "cell_type": "code",
   "execution_count": 40,
   "metadata": {},
   "outputs": [
    {
     "data": {
      "text/plain": [
       "(10,)"
      ]
     },
     "execution_count": 40,
     "metadata": {},
     "output_type": "execute_result"
    }
   ],
   "source": [
    "mu.shape"
   ]
  },
  {
   "cell_type": "code",
   "execution_count": 41,
   "metadata": {},
   "outputs": [
    {
     "data": {
      "text/plain": [
       "(1, 10)"
      ]
     },
     "execution_count": 41,
     "metadata": {},
     "output_type": "execute_result"
    }
   ],
   "source": [
    "P.shape"
   ]
  },
  {
   "cell_type": "code",
   "execution_count": 42,
   "metadata": {},
   "outputs": [
    {
     "data": {
      "text/plain": [
       "(10, 10)"
      ]
     },
     "execution_count": 42,
     "metadata": {},
     "output_type": "execute_result"
    }
   ],
   "source": [
    "C.shape"
   ]
  },
  {
   "cell_type": "code",
   "execution_count": 43,
   "metadata": {},
   "outputs": [
    {
     "data": {
      "text/plain": [
       "(1,)"
      ]
     },
     "execution_count": 43,
     "metadata": {},
     "output_type": "execute_result"
    }
   ],
   "source": [
    "q.shape"
   ]
  },
  {
   "cell_type": "code",
   "execution_count": 44,
   "metadata": {},
   "outputs": [
    {
     "data": {
      "text/plain": [
       "numpy.ndarray"
      ]
     },
     "execution_count": 44,
     "metadata": {},
     "output_type": "execute_result"
    }
   ],
   "source": [
    "type(np.dot(P.T, np.dot(1 / omega, q)))"
   ]
  },
  {
   "cell_type": "code",
   "execution_count": 45,
   "metadata": {},
   "outputs": [
    {
     "data": {
      "text/plain": [
       "(10,)"
      ]
     },
     "execution_count": 45,
     "metadata": {},
     "output_type": "execute_result"
    }
   ],
   "source": [
    "np.dot(np.linalg.inv(C), mu).shape"
   ]
  },
  {
   "cell_type": "code",
   "execution_count": 46,
   "metadata": {},
   "outputs": [],
   "source": [
    "m2 = np.dot(P.T, np.dot(1 / omega, q)) + np.dot(np.linalg.inv(C), mu)"
   ]
  },
  {
   "cell_type": "code",
   "execution_count": 47,
   "metadata": {},
   "outputs": [
    {
     "data": {
      "text/plain": [
       "(10,)"
      ]
     },
     "execution_count": 47,
     "metadata": {},
     "output_type": "execute_result"
    }
   ],
   "source": [
    "m2.shape"
   ]
  },
  {
   "cell_type": "code",
   "execution_count": 48,
   "metadata": {},
   "outputs": [],
   "source": [
    "mu_ = np.dot(np.linalg.inv(m1), m2)"
   ]
  },
  {
   "cell_type": "code",
   "execution_count": 49,
   "metadata": {},
   "outputs": [
    {
     "data": {
      "text/plain": [
       "(10, 1)"
      ]
     },
     "execution_count": 49,
     "metadata": {},
     "output_type": "execute_result"
    }
   ],
   "source": [
    "eq_return.shape"
   ]
  },
  {
   "cell_type": "code",
   "execution_count": 50,
   "metadata": {},
   "outputs": [],
   "source": [
    "r = pd.DataFrame({'historical':mu, 'equilibrium':mu,'black-litterman':mu_}, index=original_data.industries)"
   ]
  },
  {
   "cell_type": "code",
   "execution_count": 51,
   "metadata": {},
   "outputs": [
    {
     "data": {
      "text/html": [
       "<div>\n",
       "<style scoped>\n",
       "    .dataframe tbody tr th:only-of-type {\n",
       "        vertical-align: middle;\n",
       "    }\n",
       "\n",
       "    .dataframe tbody tr th {\n",
       "        vertical-align: top;\n",
       "    }\n",
       "\n",
       "    .dataframe thead th {\n",
       "        text-align: right;\n",
       "    }\n",
       "</style>\n",
       "<table border=\"1\" class=\"dataframe\">\n",
       "  <thead>\n",
       "    <tr style=\"text-align: right;\">\n",
       "      <th></th>\n",
       "      <th>historical</th>\n",
       "      <th>equilibrium</th>\n",
       "      <th>black-litterman</th>\n",
       "    </tr>\n",
       "  </thead>\n",
       "  <tbody>\n",
       "    <tr>\n",
       "      <th>NoDur</th>\n",
       "      <td>0.084478</td>\n",
       "      <td>0.084478</td>\n",
       "      <td>0.066329</td>\n",
       "    </tr>\n",
       "    <tr>\n",
       "      <th>Durbl</th>\n",
       "      <td>0.135166</td>\n",
       "      <td>0.135166</td>\n",
       "      <td>0.053192</td>\n",
       "    </tr>\n",
       "    <tr>\n",
       "      <th>Manuf</th>\n",
       "      <td>0.123809</td>\n",
       "      <td>0.123809</td>\n",
       "      <td>0.046334</td>\n",
       "    </tr>\n",
       "    <tr>\n",
       "      <th>Enrgy</th>\n",
       "      <td>0.094358</td>\n",
       "      <td>0.094358</td>\n",
       "      <td>0.039519</td>\n",
       "    </tr>\n",
       "    <tr>\n",
       "      <th>HiTec</th>\n",
       "      <td>0.137184</td>\n",
       "      <td>0.137184</td>\n",
       "      <td>0.059702</td>\n",
       "    </tr>\n",
       "    <tr>\n",
       "      <th>Telcm</th>\n",
       "      <td>0.071492</td>\n",
       "      <td>0.071492</td>\n",
       "      <td>0.042863</td>\n",
       "    </tr>\n",
       "    <tr>\n",
       "      <th>Shops</th>\n",
       "      <td>0.107817</td>\n",
       "      <td>0.107817</td>\n",
       "      <td>0.066784</td>\n",
       "    </tr>\n",
       "    <tr>\n",
       "      <th>Hlth</th>\n",
       "      <td>0.094674</td>\n",
       "      <td>0.094674</td>\n",
       "      <td>0.063296</td>\n",
       "    </tr>\n",
       "    <tr>\n",
       "      <th>Utils</th>\n",
       "      <td>0.087571</td>\n",
       "      <td>0.087571</td>\n",
       "      <td>0.053962</td>\n",
       "    </tr>\n",
       "    <tr>\n",
       "      <th>Other</th>\n",
       "      <td>0.125971</td>\n",
       "      <td>0.125971</td>\n",
       "      <td>0.065191</td>\n",
       "    </tr>\n",
       "  </tbody>\n",
       "</table>\n",
       "</div>"
      ],
      "text/plain": [
       "       historical  equilibrium  black-litterman\n",
       "NoDur    0.084478     0.084478         0.066329\n",
       "Durbl    0.135166     0.135166         0.053192\n",
       "Manuf    0.123809     0.123809         0.046334\n",
       "Enrgy    0.094358     0.094358         0.039519\n",
       "HiTec    0.137184     0.137184         0.059702\n",
       "Telcm    0.071492     0.071492         0.042863\n",
       "Shops    0.107817     0.107817         0.066784\n",
       "Hlth     0.094674     0.094674         0.063296\n",
       "Utils    0.087571     0.087571         0.053962\n",
       "Other    0.125971     0.125971         0.065191"
      ]
     },
     "execution_count": 51,
     "metadata": {},
     "output_type": "execute_result"
    }
   ],
   "source": [
    "r"
   ]
  },
  {
   "cell_type": "code",
   "execution_count": 52,
   "metadata": {},
   "outputs": [],
   "source": [
    "cov_ = np.linalg.inv(m1)"
   ]
  },
  {
   "cell_type": "code",
   "execution_count": 53,
   "metadata": {},
   "outputs": [
    {
     "data": {
      "text/plain": [
       "array([[0.02505257, 0.02705456, 0.02505288, 0.01768628, 0.0253523 ,\n",
       "        0.01572094, 0.02622185, 0.02346303, 0.0201834 , 0.02691701],\n",
       "       [0.02705456, 0.04653102, 0.02705594, 0.01769932, 0.0289716 ,\n",
       "        0.01845904, 0.03148216, 0.02382561, 0.02234084, 0.02980786],\n",
       "       [0.02505288, 0.02705594, 0.02505418, 0.01768721, 0.02535361,\n",
       "        0.01572142, 0.02622254, 0.02346356, 0.02018397, 0.02691804],\n",
       "       [0.01768628, 0.01769932, 0.01768721, 0.03298626, 0.01704796,\n",
       "        0.01138342, 0.0171266 , 0.01701161, 0.01872665, 0.02034291],\n",
       "       [0.0253523 , 0.0289716 , 0.02535361, 0.01704796, 0.0423833 ,\n",
       "        0.01974848, 0.02960413, 0.02698842, 0.02126532, 0.02817773],\n",
       "       [0.01572094, 0.01845904, 0.01572142, 0.01138342, 0.01974848,\n",
       "        0.02285851, 0.01802123, 0.01565689, 0.01634661, 0.01902562],\n",
       "       [0.02622185, 0.03148216, 0.02622254, 0.0171266 , 0.02960413,\n",
       "        0.01802123, 0.03596877, 0.02515539, 0.02115111, 0.02898875],\n",
       "       [0.02346303, 0.02382561, 0.02346356, 0.01701161, 0.02698842,\n",
       "        0.01565689, 0.02515539, 0.03489446, 0.02002605, 0.02556209],\n",
       "       [0.0201834 , 0.02234084, 0.02018397, 0.01872665, 0.02126532,\n",
       "        0.01634661, 0.02115111, 0.02002605, 0.03388151, 0.02460219],\n",
       "       [0.02691701, 0.02980786, 0.02691804, 0.02034291, 0.02817773,\n",
       "        0.01902562, 0.02898875, 0.02556209, 0.02460219, 0.03698101]])"
      ]
     },
     "execution_count": 53,
     "metadata": {},
     "output_type": "execute_result"
    }
   ],
   "source": [
    "cov_"
   ]
  },
  {
   "cell_type": "code",
   "execution_count": 54,
   "metadata": {},
   "outputs": [
    {
     "data": {
      "text/html": [
       "<div>\n",
       "<style scoped>\n",
       "    .dataframe tbody tr th:only-of-type {\n",
       "        vertical-align: middle;\n",
       "    }\n",
       "\n",
       "    .dataframe tbody tr th {\n",
       "        vertical-align: top;\n",
       "    }\n",
       "\n",
       "    .dataframe thead th {\n",
       "        text-align: right;\n",
       "    }\n",
       "</style>\n",
       "<table border=\"1\" class=\"dataframe\">\n",
       "  <thead>\n",
       "    <tr style=\"text-align: right;\">\n",
       "      <th></th>\n",
       "      <th>NoDur</th>\n",
       "      <th>Durbl</th>\n",
       "      <th>Manuf</th>\n",
       "      <th>Enrgy</th>\n",
       "      <th>HiTec</th>\n",
       "      <th>Telcm</th>\n",
       "      <th>Shops</th>\n",
       "      <th>Hlth</th>\n",
       "      <th>Utils</th>\n",
       "      <th>Other</th>\n",
       "    </tr>\n",
       "  </thead>\n",
       "  <tbody>\n",
       "    <tr>\n",
       "      <th>NoDur</th>\n",
       "      <td>0.051411</td>\n",
       "      <td>0.060006</td>\n",
       "      <td>0.055679</td>\n",
       "      <td>0.039317</td>\n",
       "      <td>0.056278</td>\n",
       "      <td>0.033501</td>\n",
       "      <td>0.055395</td>\n",
       "      <td>0.049183</td>\n",
       "      <td>0.042784</td>\n",
       "      <td>0.058206</td>\n",
       "    </tr>\n",
       "    <tr>\n",
       "      <th>Durbl</th>\n",
       "      <td>0.060006</td>\n",
       "      <td>0.119696</td>\n",
       "      <td>0.079285</td>\n",
       "      <td>0.053216</td>\n",
       "      <td>0.083118</td>\n",
       "      <td>0.046220</td>\n",
       "      <td>0.076296</td>\n",
       "      <td>0.057846</td>\n",
       "      <td>0.055602</td>\n",
       "      <td>0.079364</td>\n",
       "    </tr>\n",
       "    <tr>\n",
       "      <th>Manuf</th>\n",
       "      <td>0.055679</td>\n",
       "      <td>0.079285</td>\n",
       "      <td>0.073900</td>\n",
       "      <td>0.052215</td>\n",
       "      <td>0.074501</td>\n",
       "      <td>0.040234</td>\n",
       "      <td>0.065046</td>\n",
       "      <td>0.056563</td>\n",
       "      <td>0.050689</td>\n",
       "      <td>0.072500</td>\n",
       "    </tr>\n",
       "    <tr>\n",
       "      <th>Enrgy</th>\n",
       "      <td>0.039317</td>\n",
       "      <td>0.053216</td>\n",
       "      <td>0.052215</td>\n",
       "      <td>0.077892</td>\n",
       "      <td>0.050937</td>\n",
       "      <td>0.028990</td>\n",
       "      <td>0.043172</td>\n",
       "      <td>0.040844</td>\n",
       "      <td>0.044758</td>\n",
       "      <td>0.053897</td>\n",
       "    </tr>\n",
       "    <tr>\n",
       "      <th>HiTec</th>\n",
       "      <td>0.056278</td>\n",
       "      <td>0.083118</td>\n",
       "      <td>0.074501</td>\n",
       "      <td>0.050937</td>\n",
       "      <td>0.108562</td>\n",
       "      <td>0.048289</td>\n",
       "      <td>0.071810</td>\n",
       "      <td>0.063613</td>\n",
       "      <td>0.052852</td>\n",
       "      <td>0.075021</td>\n",
       "    </tr>\n",
       "    <tr>\n",
       "      <th>Telcm</th>\n",
       "      <td>0.033501</td>\n",
       "      <td>0.046220</td>\n",
       "      <td>0.040234</td>\n",
       "      <td>0.028990</td>\n",
       "      <td>0.048289</td>\n",
       "      <td>0.048966</td>\n",
       "      <td>0.040699</td>\n",
       "      <td>0.034874</td>\n",
       "      <td>0.036507</td>\n",
       "      <td>0.044948</td>\n",
       "    </tr>\n",
       "    <tr>\n",
       "      <th>Shops</th>\n",
       "      <td>0.055395</td>\n",
       "      <td>0.076296</td>\n",
       "      <td>0.065046</td>\n",
       "      <td>0.043172</td>\n",
       "      <td>0.071810</td>\n",
       "      <td>0.040699</td>\n",
       "      <td>0.078611</td>\n",
       "      <td>0.055414</td>\n",
       "      <td>0.047768</td>\n",
       "      <td>0.067863</td>\n",
       "    </tr>\n",
       "    <tr>\n",
       "      <th>Hlth</th>\n",
       "      <td>0.049183</td>\n",
       "      <td>0.057846</td>\n",
       "      <td>0.056563</td>\n",
       "      <td>0.040844</td>\n",
       "      <td>0.063613</td>\n",
       "      <td>0.034874</td>\n",
       "      <td>0.055414</td>\n",
       "      <td>0.073691</td>\n",
       "      <td>0.044232</td>\n",
       "      <td>0.058683</td>\n",
       "    </tr>\n",
       "    <tr>\n",
       "      <th>Utils</th>\n",
       "      <td>0.042784</td>\n",
       "      <td>0.055602</td>\n",
       "      <td>0.050689</td>\n",
       "      <td>0.044758</td>\n",
       "      <td>0.052852</td>\n",
       "      <td>0.036507</td>\n",
       "      <td>0.047768</td>\n",
       "      <td>0.044232</td>\n",
       "      <td>0.072240</td>\n",
       "      <td>0.057301</td>\n",
       "    </tr>\n",
       "    <tr>\n",
       "      <th>Other</th>\n",
       "      <td>0.058206</td>\n",
       "      <td>0.079364</td>\n",
       "      <td>0.072500</td>\n",
       "      <td>0.053897</td>\n",
       "      <td>0.075021</td>\n",
       "      <td>0.044948</td>\n",
       "      <td>0.067863</td>\n",
       "      <td>0.058683</td>\n",
       "      <td>0.057301</td>\n",
       "      <td>0.088604</td>\n",
       "    </tr>\n",
       "  </tbody>\n",
       "</table>\n",
       "</div>"
      ],
      "text/plain": [
       "          NoDur     Durbl     Manuf     Enrgy     HiTec     Telcm     Shops  \\\n",
       "NoDur  0.051411  0.060006  0.055679  0.039317  0.056278  0.033501  0.055395   \n",
       "Durbl  0.060006  0.119696  0.079285  0.053216  0.083118  0.046220  0.076296   \n",
       "Manuf  0.055679  0.079285  0.073900  0.052215  0.074501  0.040234  0.065046   \n",
       "Enrgy  0.039317  0.053216  0.052215  0.077892  0.050937  0.028990  0.043172   \n",
       "HiTec  0.056278  0.083118  0.074501  0.050937  0.108562  0.048289  0.071810   \n",
       "Telcm  0.033501  0.046220  0.040234  0.028990  0.048289  0.048966  0.040699   \n",
       "Shops  0.055395  0.076296  0.065046  0.043172  0.071810  0.040699  0.078611   \n",
       "Hlth   0.049183  0.057846  0.056563  0.040844  0.063613  0.034874  0.055414   \n",
       "Utils  0.042784  0.055602  0.050689  0.044758  0.052852  0.036507  0.047768   \n",
       "Other  0.058206  0.079364  0.072500  0.053897  0.075021  0.044948  0.067863   \n",
       "\n",
       "           Hlth     Utils     Other  \n",
       "NoDur  0.049183  0.042784  0.058206  \n",
       "Durbl  0.057846  0.055602  0.079364  \n",
       "Manuf  0.056563  0.050689  0.072500  \n",
       "Enrgy  0.040844  0.044758  0.053897  \n",
       "HiTec  0.063613  0.052852  0.075021  \n",
       "Telcm  0.034874  0.036507  0.044948  \n",
       "Shops  0.055414  0.047768  0.067863  \n",
       "Hlth   0.073691  0.044232  0.058683  \n",
       "Utils  0.044232  0.072240  0.057301  \n",
       "Other  0.058683  0.057301  0.088604  "
      ]
     },
     "execution_count": 54,
     "metadata": {},
     "output_type": "execute_result"
    }
   ],
   "source": [
    "cov_ + cov"
   ]
  },
  {
   "cell_type": "code",
   "execution_count": null,
   "metadata": {},
   "outputs": [],
   "source": []
  }
 ],
 "metadata": {
  "kernelspec": {
   "display_name": "Python 3",
   "language": "python",
   "name": "python3"
  },
  "language_info": {
   "codemirror_mode": {
    "name": "ipython",
    "version": 3
   },
   "file_extension": ".py",
   "mimetype": "text/x-python",
   "name": "python",
   "nbconvert_exporter": "python",
   "pygments_lexer": "ipython3",
   "version": "3.8.8"
  }
 },
 "nbformat": 4,
 "nbformat_minor": 4
}
