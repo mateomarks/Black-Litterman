{
 "cells": [
  {
   "cell_type": "markdown",
   "metadata": {},
   "source": [
    "# Artificial Intelligence generated views on the Black-Litterman model"
   ]
  },
  {
   "cell_type": "markdown",
   "metadata": {},
   "source": [
    "## Import rquired packages"
   ]
  },
  {
   "cell_type": "code",
   "execution_count": 1,
   "metadata": {},
   "outputs": [],
   "source": [
    "import pandas as pd\n",
    "import numpy as np\n",
    "import matplotlib.pyplot as plt\n",
    "import seaborn as sns\n",
    "import math"
   ]
  },
  {
   "cell_type": "markdown",
   "metadata": {},
   "source": [
    "### Graph Formatting"
   ]
  },
  {
   "cell_type": "code",
   "execution_count": 2,
   "metadata": {},
   "outputs": [],
   "source": [
    "plt.style.use('seaborn')\n",
    "plt.rcParams['font.family'] = 'serif'\n",
    "%matplotlib inline\n",
    "\n",
    "SMALL_SIZE = 14; MEDIUM_SIZE = 16; BIGGER_SIZE = 18\n",
    "\n",
    "plt.rc('font', size=SMALL_SIZE)          # controls default text sizes\n",
    "plt.rc('axes', titlesize=SMALL_SIZE)     # fontsize of the axes title\n",
    "plt.rc('axes', labelsize=MEDIUM_SIZE)    # fontsize of the x and y labels\n",
    "plt.rc('xtick', labelsize=SMALL_SIZE)    # fontsize of the tick labels\n",
    "plt.rc('ytick', labelsize=SMALL_SIZE)    # fontsize of the tick labels\n",
    "plt.rc('legend', fontsize=SMALL_SIZE)    # legend fontsize\n",
    "plt.rc('figure', titlesize=BIGGER_SIZE)  # fontsize of the figure title\n",
    "plt.rc('figure', figsize=(10,6))         # size fo the graph"
   ]
  },
  {
   "cell_type": "markdown",
   "metadata": {},
   "source": [
    "## Import the data"
   ]
  },
  {
   "cell_type": "markdown",
   "metadata": {},
   "source": [
    "Categories construction: Assigns each NYSE, AMEX, and NASDAQ stock to an industry portfolio at the end of June of year t based on its four-digit SIC code at that time. (Uses Compustat SIC codes for the fiscal year ending in calendar year t-1. Whenever Compustat SIC codes are not available, uses CRSP SIC codes for June of year t.) Then computes returns from July of t to June of t+1\n",
    " \n",
    " 1. NoDur  Consumer Nondurables -- Food, Tobacco, Textiles, Apparel, Leather, Toys\n",
    " 2. Durbl  Consumer Durables -- Cars, TVs, Furniture, Household Appliances\n",
    " 3. Manuf  Manufacturing -- Machinery, Trucks, Planes, Chemicals, Off Furn, Paper, Com Printing\n",
    " 4. Enrgy  Oil, Gas, and Coal Extraction and Products\n",
    " 5. HiTec  Business Equipment -- Computers, Software, and Electronic Equipment\n",
    " 6. Telcm  Telephone and Television Transmission\n",
    " 7. Shops  Wholesale, Retail, and Some Services (Laundries, Repair Shops)\n",
    " 8. Hlth   Healthcare, Medical Equipment, and Drugs\n",
    " 9. Utils  Utilities\n",
    " 10. Other -- Other Mines, Constr, BldMt, Trans, Hotels, Bus Serv, Entertainment, Finance"
   ]
  },
  {
   "cell_type": "markdown",
   "metadata": {},
   "source": [
    "Source: https://mba.tuck.dartmouth.edu/pages/faculty/ken.french/Data_Library/det_10_ind_port.html"
   ]
  },
  {
   "cell_type": "code",
   "execution_count": 3,
   "metadata": {},
   "outputs": [
    {
     "data": {
      "text/html": [
       "<div>\n",
       "<style scoped>\n",
       "    .dataframe tbody tr th:only-of-type {\n",
       "        vertical-align: middle;\n",
       "    }\n",
       "\n",
       "    .dataframe tbody tr th {\n",
       "        vertical-align: top;\n",
       "    }\n",
       "\n",
       "    .dataframe thead th {\n",
       "        text-align: right;\n",
       "    }\n",
       "</style>\n",
       "<table border=\"1\" class=\"dataframe\">\n",
       "  <thead>\n",
       "    <tr style=\"text-align: right;\">\n",
       "      <th></th>\n",
       "      <th>NoDur</th>\n",
       "      <th>Durbl</th>\n",
       "      <th>Manuf</th>\n",
       "      <th>Enrgy</th>\n",
       "      <th>HiTec</th>\n",
       "      <th>Telcm</th>\n",
       "      <th>Shops</th>\n",
       "      <th>Hlth</th>\n",
       "      <th>Utils</th>\n",
       "      <th>Other</th>\n",
       "    </tr>\n",
       "  </thead>\n",
       "  <tbody>\n",
       "    <tr>\n",
       "      <th>1926-07</th>\n",
       "      <td>0.0145</td>\n",
       "      <td>0.1555</td>\n",
       "      <td>0.0469</td>\n",
       "      <td>-0.0118</td>\n",
       "      <td>0.0290</td>\n",
       "      <td>0.0083</td>\n",
       "      <td>0.0011</td>\n",
       "      <td>0.0177</td>\n",
       "      <td>0.0704</td>\n",
       "      <td>0.0216</td>\n",
       "    </tr>\n",
       "    <tr>\n",
       "      <th>1926-08</th>\n",
       "      <td>0.0397</td>\n",
       "      <td>0.0368</td>\n",
       "      <td>0.0281</td>\n",
       "      <td>0.0347</td>\n",
       "      <td>0.0266</td>\n",
       "      <td>0.0217</td>\n",
       "      <td>-0.0071</td>\n",
       "      <td>0.0425</td>\n",
       "      <td>-0.0169</td>\n",
       "      <td>0.0438</td>\n",
       "    </tr>\n",
       "    <tr>\n",
       "      <th>1926-09</th>\n",
       "      <td>0.0114</td>\n",
       "      <td>0.0480</td>\n",
       "      <td>0.0115</td>\n",
       "      <td>-0.0339</td>\n",
       "      <td>-0.0038</td>\n",
       "      <td>0.0241</td>\n",
       "      <td>0.0021</td>\n",
       "      <td>0.0069</td>\n",
       "      <td>0.0204</td>\n",
       "      <td>0.0029</td>\n",
       "    </tr>\n",
       "    <tr>\n",
       "      <th>1926-10</th>\n",
       "      <td>-0.0124</td>\n",
       "      <td>-0.0823</td>\n",
       "      <td>-0.0363</td>\n",
       "      <td>-0.0078</td>\n",
       "      <td>-0.0458</td>\n",
       "      <td>-0.0011</td>\n",
       "      <td>-0.0229</td>\n",
       "      <td>-0.0057</td>\n",
       "      <td>-0.0263</td>\n",
       "      <td>-0.0285</td>\n",
       "    </tr>\n",
       "    <tr>\n",
       "      <th>1926-11</th>\n",
       "      <td>0.0520</td>\n",
       "      <td>-0.0019</td>\n",
       "      <td>0.0410</td>\n",
       "      <td>0.0001</td>\n",
       "      <td>0.0471</td>\n",
       "      <td>0.0163</td>\n",
       "      <td>0.0643</td>\n",
       "      <td>0.0542</td>\n",
       "      <td>0.0371</td>\n",
       "      <td>0.0211</td>\n",
       "    </tr>\n",
       "  </tbody>\n",
       "</table>\n",
       "</div>"
      ],
      "text/plain": [
       "          NoDur   Durbl   Manuf   Enrgy   HiTec   Telcm   Shops    Hlth  \\\n",
       "1926-07  0.0145  0.1555  0.0469 -0.0118  0.0290  0.0083  0.0011  0.0177   \n",
       "1926-08  0.0397  0.0368  0.0281  0.0347  0.0266  0.0217 -0.0071  0.0425   \n",
       "1926-09  0.0114  0.0480  0.0115 -0.0339 -0.0038  0.0241  0.0021  0.0069   \n",
       "1926-10 -0.0124 -0.0823 -0.0363 -0.0078 -0.0458 -0.0011 -0.0229 -0.0057   \n",
       "1926-11  0.0520 -0.0019  0.0410  0.0001  0.0471  0.0163  0.0643  0.0542   \n",
       "\n",
       "          Utils   Other  \n",
       "1926-07  0.0704  0.0216  \n",
       "1926-08 -0.0169  0.0438  \n",
       "1926-09  0.0204  0.0029  \n",
       "1926-10 -0.0263 -0.0285  \n",
       "1926-11  0.0371  0.0211  "
      ]
     },
     "execution_count": 3,
     "metadata": {},
     "output_type": "execute_result"
    }
   ],
   "source": [
    "raw_rets = pd.read_excel(\"10_Industry_Portfolios.xls\", header=0, \\\n",
    "                       index_col=0, na_values=-99.99, sheet_name=0)/100\n",
    "\n",
    "raw_rets.index = pd.to_datetime(raw_rets.index, format=\"%Y%m\").to_period('M')\n",
    "raw_rets.head()"
   ]
  },
  {
   "cell_type": "code",
   "execution_count": 4,
   "metadata": {},
   "outputs": [
    {
     "data": {
      "image/png": "[encoded data removed]",
      "text/plain": [
       "<Figure size 720x432 with 1 Axes>"
      ]
     },
     "metadata": {
      "needs_background": "light"
     },
     "output_type": "display_data"
    }
   ],
   "source": [
    "nfirms = pd.read_excel(\"10_Industry_Portfolios.xls\", header=0, \\\n",
    "                       index_col=0, na_values=-99.99, sheet_name=1)\n",
    "\n",
    "nfirms.index = pd.to_datetime(nfirms.index, format=\"%Y%m\").to_period('M')\n",
    "\n",
    "ax = sns.barplot( data=nfirms.tail(1))"
   ]
  },
  {
   "cell_type": "code",
   "execution_count": 5,
   "metadata": {},
   "outputs": [
    {
     "data": {
      "image/png": "[encoded data removed]",
      "text/plain": [
       "<Figure size 720x432 with 1 Axes>"
      ]
     },
     "metadata": {
      "needs_background": "light"
     },
     "output_type": "display_data"
    }
   ],
   "source": [
    "raw_firms_size = pd.read_excel(\"10_Industry_Portfolios.xls\", header=0, \\\n",
    "                       index_col=0, na_values=-99.99, sheet_name=2)\n",
    "\n",
    "raw_firms_size.index = pd.to_datetime(raw_firms_size.index, format=\"%Y%m\").to_period('M')\n",
    "ax = sns.barplot( data=raw_firms_size.tail(1))"
   ]
  },
  {
   "cell_type": "code",
   "execution_count": 6,
   "metadata": {},
   "outputs": [],
   "source": [
    "split = int(len(raw_rets) * 0.9)\n",
    "train = raw_rets.iloc[:split].copy()\n",
    "test = raw_rets.iloc[split:].copy()"
   ]
  },
  {
   "cell_type": "code",
   "execution_count": 7,
   "metadata": {},
   "outputs": [
    {
     "data": {
      "text/html": [
       "<div>\n",
       "<style scoped>\n",
       "    .dataframe tbody tr th:only-of-type {\n",
       "        vertical-align: middle;\n",
       "    }\n",
       "\n",
       "    .dataframe tbody tr th {\n",
       "        vertical-align: top;\n",
       "    }\n",
       "\n",
       "    .dataframe thead th {\n",
       "        text-align: right;\n",
       "    }\n",
       "</style>\n",
       "<table border=\"1\" class=\"dataframe\">\n",
       "  <thead>\n",
       "    <tr style=\"text-align: right;\">\n",
       "      <th></th>\n",
       "      <th>NoDur</th>\n",
       "      <th>Durbl</th>\n",
       "      <th>Manuf</th>\n",
       "      <th>Enrgy</th>\n",
       "      <th>HiTec</th>\n",
       "      <th>Telcm</th>\n",
       "      <th>Shops</th>\n",
       "      <th>Hlth</th>\n",
       "      <th>Utils</th>\n",
       "      <th>Other</th>\n",
       "    </tr>\n",
       "  </thead>\n",
       "  <tbody>\n",
       "    <tr>\n",
       "      <th>2011-04</th>\n",
       "      <td>0.0459</td>\n",
       "      <td>0.0222</td>\n",
       "      <td>0.0299</td>\n",
       "      <td>0.0130</td>\n",
       "      <td>0.0311</td>\n",
       "      <td>0.0341</td>\n",
       "      <td>0.0453</td>\n",
       "      <td>0.0638</td>\n",
       "      <td>0.0399</td>\n",
       "      <td>0.0111</td>\n",
       "    </tr>\n",
       "    <tr>\n",
       "      <th>2011-05</th>\n",
       "      <td>0.0193</td>\n",
       "      <td>-0.0354</td>\n",
       "      <td>-0.0215</td>\n",
       "      <td>-0.0456</td>\n",
       "      <td>-0.0166</td>\n",
       "      <td>0.0077</td>\n",
       "      <td>0.0083</td>\n",
       "      <td>0.0197</td>\n",
       "      <td>0.0130</td>\n",
       "      <td>-0.0239</td>\n",
       "    </tr>\n",
       "    <tr>\n",
       "      <th>2011-06</th>\n",
       "      <td>-0.0101</td>\n",
       "      <td>-0.0123</td>\n",
       "      <td>-0.0059</td>\n",
       "      <td>-0.0249</td>\n",
       "      <td>-0.0233</td>\n",
       "      <td>-0.0124</td>\n",
       "      <td>-0.0089</td>\n",
       "      <td>-0.0183</td>\n",
       "      <td>-0.0034</td>\n",
       "      <td>-0.0206</td>\n",
       "    </tr>\n",
       "    <tr>\n",
       "      <th>2011-07</th>\n",
       "      <td>-0.0043</td>\n",
       "      <td>-0.0891</td>\n",
       "      <td>-0.0470</td>\n",
       "      <td>0.0051</td>\n",
       "      <td>-0.0037</td>\n",
       "      <td>-0.0503</td>\n",
       "      <td>-0.0067</td>\n",
       "      <td>-0.0365</td>\n",
       "      <td>-0.0035</td>\n",
       "      <td>-0.0376</td>\n",
       "    </tr>\n",
       "    <tr>\n",
       "      <th>2011-08</th>\n",
       "      <td>-0.0068</td>\n",
       "      <td>-0.1200</td>\n",
       "      <td>-0.0609</td>\n",
       "      <td>-0.1011</td>\n",
       "      <td>-0.0689</td>\n",
       "      <td>-0.0545</td>\n",
       "      <td>-0.0288</td>\n",
       "      <td>-0.0310</td>\n",
       "      <td>0.0014</td>\n",
       "      <td>-0.0761</td>\n",
       "    </tr>\n",
       "  </tbody>\n",
       "</table>\n",
       "</div>"
      ],
      "text/plain": [
       "          NoDur   Durbl   Manuf   Enrgy   HiTec   Telcm   Shops    Hlth  \\\n",
       "2011-04  0.0459  0.0222  0.0299  0.0130  0.0311  0.0341  0.0453  0.0638   \n",
       "2011-05  0.0193 -0.0354 -0.0215 -0.0456 -0.0166  0.0077  0.0083  0.0197   \n",
       "2011-06 -0.0101 -0.0123 -0.0059 -0.0249 -0.0233 -0.0124 -0.0089 -0.0183   \n",
       "2011-07 -0.0043 -0.0891 -0.0470  0.0051 -0.0037 -0.0503 -0.0067 -0.0365   \n",
       "2011-08 -0.0068 -0.1200 -0.0609 -0.1011 -0.0689 -0.0545 -0.0288 -0.0310   \n",
       "\n",
       "          Utils   Other  \n",
       "2011-04  0.0399  0.0111  \n",
       "2011-05  0.0130 -0.0239  \n",
       "2011-06 -0.0034 -0.0206  \n",
       "2011-07 -0.0035 -0.0376  \n",
       "2011-08  0.0014 -0.0761  "
      ]
     },
     "execution_count": 7,
     "metadata": {},
     "output_type": "execute_result"
    }
   ],
   "source": [
    "train.tail()"
   ]
  },
  {
   "cell_type": "markdown",
   "metadata": {},
   "source": [
    "## Explore the data"
   ]
  },
  {
   "cell_type": "code",
   "execution_count": 8,
   "metadata": {},
   "outputs": [
    {
     "data": {
      "text/html": [
       "<div>\n",
       "<style scoped>\n",
       "    .dataframe tbody tr th:only-of-type {\n",
       "        vertical-align: middle;\n",
       "    }\n",
       "\n",
       "    .dataframe tbody tr th {\n",
       "        vertical-align: top;\n",
       "    }\n",
       "\n",
       "    .dataframe thead th {\n",
       "        text-align: right;\n",
       "    }\n",
       "</style>\n",
       "<table border=\"1\" class=\"dataframe\">\n",
       "  <thead>\n",
       "    <tr style=\"text-align: right;\">\n",
       "      <th></th>\n",
       "      <th>NoDur</th>\n",
       "      <th>Durbl</th>\n",
       "      <th>Manuf</th>\n",
       "      <th>Enrgy</th>\n",
       "      <th>HiTec</th>\n",
       "      <th>Telcm</th>\n",
       "      <th>Shops</th>\n",
       "      <th>Hlth</th>\n",
       "      <th>Utils</th>\n",
       "      <th>Other</th>\n",
       "    </tr>\n",
       "  </thead>\n",
       "  <tbody>\n",
       "    <tr>\n",
       "      <th>count</th>\n",
       "      <td>1022.000000</td>\n",
       "      <td>1022.000000</td>\n",
       "      <td>1022.000000</td>\n",
       "      <td>1022.000000</td>\n",
       "      <td>1022.000000</td>\n",
       "      <td>1022.000000</td>\n",
       "      <td>1022.000000</td>\n",
       "      <td>1022.000000</td>\n",
       "      <td>1022.000000</td>\n",
       "      <td>1022.000000</td>\n",
       "    </tr>\n",
       "    <tr>\n",
       "      <th>mean</th>\n",
       "      <td>0.009713</td>\n",
       "      <td>0.010794</td>\n",
       "      <td>0.010155</td>\n",
       "      <td>0.010631</td>\n",
       "      <td>0.010799</td>\n",
       "      <td>0.008327</td>\n",
       "      <td>0.009902</td>\n",
       "      <td>0.010616</td>\n",
       "      <td>0.008805</td>\n",
       "      <td>0.008794</td>\n",
       "    </tr>\n",
       "    <tr>\n",
       "      <th>std</th>\n",
       "      <td>0.046867</td>\n",
       "      <td>0.078084</td>\n",
       "      <td>0.063800</td>\n",
       "      <td>0.061173</td>\n",
       "      <td>0.074262</td>\n",
       "      <td>0.046643</td>\n",
       "      <td>0.059612</td>\n",
       "      <td>0.056860</td>\n",
       "      <td>0.056538</td>\n",
       "      <td>0.065589</td>\n",
       "    </tr>\n",
       "    <tr>\n",
       "      <th>min</th>\n",
       "      <td>-0.246900</td>\n",
       "      <td>-0.348000</td>\n",
       "      <td>-0.298200</td>\n",
       "      <td>-0.298400</td>\n",
       "      <td>-0.338700</td>\n",
       "      <td>-0.215600</td>\n",
       "      <td>-0.302400</td>\n",
       "      <td>-0.340800</td>\n",
       "      <td>-0.330500</td>\n",
       "      <td>-0.300300</td>\n",
       "    </tr>\n",
       "    <tr>\n",
       "      <th>25%</th>\n",
       "      <td>-0.014000</td>\n",
       "      <td>-0.027775</td>\n",
       "      <td>-0.020900</td>\n",
       "      <td>-0.023700</td>\n",
       "      <td>-0.028075</td>\n",
       "      <td>-0.013850</td>\n",
       "      <td>-0.021500</td>\n",
       "      <td>-0.019875</td>\n",
       "      <td>-0.016875</td>\n",
       "      <td>-0.021975</td>\n",
       "    </tr>\n",
       "    <tr>\n",
       "      <th>50%</th>\n",
       "      <td>0.010950</td>\n",
       "      <td>0.010050</td>\n",
       "      <td>0.013800</td>\n",
       "      <td>0.008900</td>\n",
       "      <td>0.012600</td>\n",
       "      <td>0.009000</td>\n",
       "      <td>0.011150</td>\n",
       "      <td>0.010850</td>\n",
       "      <td>0.010500</td>\n",
       "      <td>0.012450</td>\n",
       "    </tr>\n",
       "    <tr>\n",
       "      <th>75%</th>\n",
       "      <td>0.036700</td>\n",
       "      <td>0.048400</td>\n",
       "      <td>0.043275</td>\n",
       "      <td>0.046175</td>\n",
       "      <td>0.050675</td>\n",
       "      <td>0.032075</td>\n",
       "      <td>0.041325</td>\n",
       "      <td>0.040850</td>\n",
       "      <td>0.036275</td>\n",
       "      <td>0.042500</td>\n",
       "    </tr>\n",
       "    <tr>\n",
       "      <th>max</th>\n",
       "      <td>0.341700</td>\n",
       "      <td>0.797900</td>\n",
       "      <td>0.572000</td>\n",
       "      <td>0.389900</td>\n",
       "      <td>0.534900</td>\n",
       "      <td>0.281700</td>\n",
       "      <td>0.424500</td>\n",
       "      <td>0.371300</td>\n",
       "      <td>0.434600</td>\n",
       "      <td>0.587500</td>\n",
       "    </tr>\n",
       "  </tbody>\n",
       "</table>\n",
       "</div>"
      ],
      "text/plain": [
       "             NoDur        Durbl        Manuf        Enrgy        HiTec  \\\n",
       "count  1022.000000  1022.000000  1022.000000  1022.000000  1022.000000   \n",
       "mean      0.009713     0.010794     0.010155     0.010631     0.010799   \n",
       "std       0.046867     0.078084     0.063800     0.061173     0.074262   \n",
       "min      -0.246900    -0.348000    -0.298200    -0.298400    -0.338700   \n",
       "25%      -0.014000    -0.027775    -0.020900    -0.023700    -0.028075   \n",
       "50%       0.010950     0.010050     0.013800     0.008900     0.012600   \n",
       "75%       0.036700     0.048400     0.043275     0.046175     0.050675   \n",
       "max       0.341700     0.797900     0.572000     0.389900     0.534900   \n",
       "\n",
       "             Telcm        Shops         Hlth        Utils        Other  \n",
       "count  1022.000000  1022.000000  1022.000000  1022.000000  1022.000000  \n",
       "mean      0.008327     0.009902     0.010616     0.008805     0.008794  \n",
       "std       0.046643     0.059612     0.056860     0.056538     0.065589  \n",
       "min      -0.215600    -0.302400    -0.340800    -0.330500    -0.300300  \n",
       "25%      -0.013850    -0.021500    -0.019875    -0.016875    -0.021975  \n",
       "50%       0.009000     0.011150     0.010850     0.010500     0.012450  \n",
       "75%       0.032075     0.041325     0.040850     0.036275     0.042500  \n",
       "max       0.281700     0.424500     0.371300     0.434600     0.587500  "
      ]
     },
     "execution_count": 8,
     "metadata": {},
     "output_type": "execute_result"
    }
   ],
   "source": [
    "train.describe()"
   ]
  },
  {
   "cell_type": "code",
   "execution_count": 9,
   "metadata": {},
   "outputs": [
    {
     "data": {
      "image/png": "[encoded data removed]",
      "text/plain": [
       "<Figure size 864x576 with 2 Axes>"
      ]
     },
     "metadata": {
      "needs_background": "light"
     },
     "output_type": "display_data"
    }
   ],
   "source": [
    "f, ax = plt.subplots(figsize=(12, 8))\n",
    "sns.heatmap(train.corr().round(1), cmap=sns.color_palette('Blues'), annot=True, linewidths=.5, ax=ax);"
   ]
  },
  {
   "cell_type": "code",
   "execution_count": 10,
   "metadata": {},
   "outputs": [
    {
     "data": {
      "text/html": [
       "<div>\n",
       "<style scoped>\n",
       "    .dataframe tbody tr th:only-of-type {\n",
       "        vertical-align: middle;\n",
       "    }\n",
       "\n",
       "    .dataframe tbody tr th {\n",
       "        vertical-align: top;\n",
       "    }\n",
       "\n",
       "    .dataframe thead th {\n",
       "        text-align: right;\n",
       "    }\n",
       "</style>\n",
       "<table border=\"1\" class=\"dataframe\">\n",
       "  <thead>\n",
       "    <tr style=\"text-align: right;\">\n",
       "      <th></th>\n",
       "      <th>NoDur</th>\n",
       "      <th>Durbl</th>\n",
       "      <th>Manuf</th>\n",
       "      <th>Enrgy</th>\n",
       "      <th>HiTec</th>\n",
       "      <th>Telcm</th>\n",
       "      <th>Shops</th>\n",
       "      <th>Hlth</th>\n",
       "      <th>Utils</th>\n",
       "      <th>Other</th>\n",
       "    </tr>\n",
       "  </thead>\n",
       "  <tbody>\n",
       "    <tr>\n",
       "      <th>1926-07</th>\n",
       "      <td>2842.2</td>\n",
       "      <td>1962.85</td>\n",
       "      <td>4888.23</td>\n",
       "      <td>4314.09</td>\n",
       "      <td>1615.50</td>\n",
       "      <td>1751.80</td>\n",
       "      <td>1606.79</td>\n",
       "      <td>178.64</td>\n",
       "      <td>1705.62</td>\n",
       "      <td>5793.09</td>\n",
       "    </tr>\n",
       "    <tr>\n",
       "      <th>1926-08</th>\n",
       "      <td>2880.0</td>\n",
       "      <td>2258.85</td>\n",
       "      <td>5101.59</td>\n",
       "      <td>4257.99</td>\n",
       "      <td>1661.40</td>\n",
       "      <td>1766.35</td>\n",
       "      <td>1604.33</td>\n",
       "      <td>180.60</td>\n",
       "      <td>1823.01</td>\n",
       "      <td>5901.87</td>\n",
       "    </tr>\n",
       "    <tr>\n",
       "      <th>1926-09</th>\n",
       "      <td>2986.2</td>\n",
       "      <td>2328.78</td>\n",
       "      <td>5227.32</td>\n",
       "      <td>4313.50</td>\n",
       "      <td>1700.82</td>\n",
       "      <td>1804.80</td>\n",
       "      <td>1589.16</td>\n",
       "      <td>187.11</td>\n",
       "      <td>1785.21</td>\n",
       "      <td>6138.30</td>\n",
       "    </tr>\n",
       "    <tr>\n",
       "      <th>1926-10</th>\n",
       "      <td>2998.8</td>\n",
       "      <td>2432.75</td>\n",
       "      <td>5256.53</td>\n",
       "      <td>4147.00</td>\n",
       "      <td>1680.84</td>\n",
       "      <td>1820.80</td>\n",
       "      <td>1589.57</td>\n",
       "      <td>188.09</td>\n",
       "      <td>1814.61</td>\n",
       "      <td>6128.31</td>\n",
       "    </tr>\n",
       "    <tr>\n",
       "      <th>1926-11</th>\n",
       "      <td>2954.7</td>\n",
       "      <td>2226.66</td>\n",
       "      <td>5050.79</td>\n",
       "      <td>4109.50</td>\n",
       "      <td>1602.90</td>\n",
       "      <td>1818.70</td>\n",
       "      <td>1549.39</td>\n",
       "      <td>185.78</td>\n",
       "      <td>1762.32</td>\n",
       "      <td>5937.39</td>\n",
       "    </tr>\n",
       "  </tbody>\n",
       "</table>\n",
       "</div>"
      ],
      "text/plain": [
       "          NoDur    Durbl    Manuf    Enrgy    HiTec    Telcm    Shops    Hlth  \\\n",
       "1926-07  2842.2  1962.85  4888.23  4314.09  1615.50  1751.80  1606.79  178.64   \n",
       "1926-08  2880.0  2258.85  5101.59  4257.99  1661.40  1766.35  1604.33  180.60   \n",
       "1926-09  2986.2  2328.78  5227.32  4313.50  1700.82  1804.80  1589.16  187.11   \n",
       "1926-10  2998.8  2432.75  5256.53  4147.00  1680.84  1820.80  1589.57  188.09   \n",
       "1926-11  2954.7  2226.66  5050.79  4109.50  1602.90  1818.70  1549.39  185.78   \n",
       "\n",
       "           Utils    Other  \n",
       "1926-07  1705.62  5793.09  \n",
       "1926-08  1823.01  5901.87  \n",
       "1926-09  1785.21  6138.30  \n",
       "1926-10  1814.61  6128.31  \n",
       "1926-11  1762.32  5937.39  "
      ]
     },
     "execution_count": 10,
     "metadata": {},
     "output_type": "execute_result"
    }
   ],
   "source": [
    "# Calculate Mkt Cap\n",
    "\n",
    "ind_mktcap = pd.DataFrame(nfirms * raw_firms_size)\n",
    "\n",
    "ind_mktcap.head()"
   ]
  },
  {
   "cell_type": "code",
   "execution_count": 11,
   "metadata": {},
   "outputs": [],
   "source": [
    "total_mktcap = ind_mktcap.sum(axis=1)\n",
    "ind_capweight = ind_mktcap.divide(total_mktcap, axis=\"rows\")\n",
    "w = ind_capweight.tail(1)"
   ]
  },
  {
   "cell_type": "markdown",
   "metadata": {},
   "source": [
    "## Basic Calculations"
   ]
  },
  {
   "cell_type": "code",
   "execution_count": 12,
   "metadata": {},
   "outputs": [],
   "source": [
    "# Initial Weights\n",
    "ind = len(train.columns)\n",
    "eq_w = ind * [1 / ind]\n",
    "\n",
    "#Risk Free\n",
    "rf = 0.01\n",
    "\n",
    "def calculate_return(weights):\n",
    "    return np.dot(train.mean(), weights) * 12\n",
    "\n",
    "def calculate_std_dev(weights):\n",
    "    return math.sqrt(np.dot(weights, np.dot(train.cov(), weights)) * 12)\n",
    "\n",
    "def calculate_sharpe(weights):\n",
    "    return (calculate_return(weights) - rf) / calculate_std_dev(weights)"
   ]
  },
  {
   "cell_type": "code",
   "execution_count": 13,
   "metadata": {},
   "outputs": [
    {
     "data": {
      "text/plain": [
       "0.11824320939334637"
      ]
     },
     "execution_count": 13,
     "metadata": {},
     "output_type": "execute_result"
    }
   ],
   "source": [
    "calculate_return(eq_w)"
   ]
  },
  {
   "cell_type": "code",
   "execution_count": 14,
   "metadata": {},
   "outputs": [
    {
     "data": {
      "text/plain": [
       "0.1832596455608185"
      ]
     },
     "execution_count": 14,
     "metadata": {},
     "output_type": "execute_result"
    }
   ],
   "source": [
    "calculate_std_dev(eq_w)"
   ]
  },
  {
   "cell_type": "code",
   "execution_count": 15,
   "metadata": {},
   "outputs": [
    {
     "data": {
      "text/plain": [
       "0.5906549096616234"
      ]
     },
     "execution_count": 15,
     "metadata": {},
     "output_type": "execute_result"
    }
   ],
   "source": [
    "calculate_sharpe(eq_w)"
   ]
  },
  {
   "cell_type": "markdown",
   "metadata": {},
   "source": [
    "Recall that the first step in the Black Litterman procedure was to reverse engineer the implied returns vector $\\pi$ from a set of portfolio weights $w$. \n",
    "\n",
    "$$\\pi = \\delta\\Sigma w$$\n",
    "\n",
    "This is performed by the following code:"
   ]
  },
  {
   "cell_type": "code",
   "execution_count": 16,
   "metadata": {},
   "outputs": [],
   "source": [
    "delta = 3\n",
    "sigma = train.cov() * 12"
   ]
  },
  {
   "cell_type": "code",
   "execution_count": 17,
   "metadata": {},
   "outputs": [
    {
     "data": {
      "text/html": [
       "<div>\n",
       "<style scoped>\n",
       "    .dataframe tbody tr th:only-of-type {\n",
       "        vertical-align: middle;\n",
       "    }\n",
       "\n",
       "    .dataframe tbody tr th {\n",
       "        vertical-align: top;\n",
       "    }\n",
       "\n",
       "    .dataframe thead th {\n",
       "        text-align: right;\n",
       "    }\n",
       "</style>\n",
       "<table border=\"1\" class=\"dataframe\">\n",
       "  <thead>\n",
       "    <tr style=\"text-align: right;\">\n",
       "      <th></th>\n",
       "      <th>eq_return</th>\n",
       "    </tr>\n",
       "  </thead>\n",
       "  <tbody>\n",
       "    <tr>\n",
       "      <th>NoDur</th>\n",
       "      <td>0.087800</td>\n",
       "    </tr>\n",
       "    <tr>\n",
       "      <th>Durbl</th>\n",
       "      <td>0.143316</td>\n",
       "    </tr>\n",
       "    <tr>\n",
       "      <th>Manuf</th>\n",
       "      <td>0.129841</td>\n",
       "    </tr>\n",
       "    <tr>\n",
       "      <th>Enrgy</th>\n",
       "      <td>0.092826</td>\n",
       "    </tr>\n",
       "    <tr>\n",
       "      <th>HiTec</th>\n",
       "      <td>0.151176</td>\n",
       "    </tr>\n",
       "    <tr>\n",
       "      <th>Telcm</th>\n",
       "      <td>0.075318</td>\n",
       "    </tr>\n",
       "    <tr>\n",
       "      <th>Shops</th>\n",
       "      <td>0.114611</td>\n",
       "    </tr>\n",
       "    <tr>\n",
       "      <th>Hlth</th>\n",
       "      <td>0.100177</td>\n",
       "    </tr>\n",
       "    <tr>\n",
       "      <th>Utils</th>\n",
       "      <td>0.089420</td>\n",
       "    </tr>\n",
       "    <tr>\n",
       "      <th>Other</th>\n",
       "      <td>0.130765</td>\n",
       "    </tr>\n",
       "  </tbody>\n",
       "</table>\n",
       "</div>"
      ],
      "text/plain": [
       "       eq_return\n",
       "NoDur   0.087800\n",
       "Durbl   0.143316\n",
       "Manuf   0.129841\n",
       "Enrgy   0.092826\n",
       "HiTec   0.151176\n",
       "Telcm   0.075318\n",
       "Shops   0.114611\n",
       "Hlth    0.100177\n",
       "Utils   0.089420\n",
       "Other   0.130765"
      ]
     },
     "execution_count": 17,
     "metadata": {},
     "output_type": "execute_result"
    }
   ],
   "source": [
    "eq_return = pd.DataFrame(delta * np.dot(sigma,w.T), index=nfirms.columns,columns=[\"eq_return\"])\n",
    "eq_return"
   ]
  },
  {
   "cell_type": "markdown",
   "metadata": {},
   "source": [
    "### The Black Litterman Formulas\n",
    "\n",
    "Assume that we have $N$ assets, and $K$ views. There are two sets of inputs to the procedure. The first set of inputs relate to market parameters and these are:\n",
    "\n",
    "\\begin{array}{ll}\n",
    "w & \\mbox{A Column Vector ($N \\times 1$) of Equilibrium Market Weights of the Assets} \\\\\n",
    "\\Sigma & \\mbox{A Covariance Matrix ($N \\times N$) of the Assets} \\\\\n",
    "R_f & \\mbox{The Risk Free Rate} \\\\\n",
    "\\delta & \\mbox{The investor's Risk Aversion parameter}  \\\\\n",
    "\\tau & \\mbox{A scalar indicating the uncertainty of the prior (details below)}\n",
    "\\end{array}"
   ]
  },
  {
   "cell_type": "code",
   "execution_count": 18,
   "metadata": {},
   "outputs": [
    {
     "data": {
      "text/plain": [
       "10"
      ]
     },
     "execution_count": 18,
     "metadata": {},
     "output_type": "execute_result"
    }
   ],
   "source": [
    "# Number of Assets\n",
    "noa = train.shape[1]\n",
    "noa"
   ]
  },
  {
   "cell_type": "code",
   "execution_count": 19,
   "metadata": {},
   "outputs": [
    {
     "data": {
      "text/plain": [
       "NoDur    0.116550\n",
       "Durbl    0.129532\n",
       "Manuf    0.121855\n",
       "Enrgy    0.127571\n",
       "HiTec    0.129591\n",
       "Telcm    0.099923\n",
       "Shops    0.118825\n",
       "Hlth     0.127390\n",
       "Utils    0.105662\n",
       "Other    0.105533\n",
       "dtype: float64"
      ]
     },
     "execution_count": 19,
     "metadata": {},
     "output_type": "execute_result"
    }
   ],
   "source": [
    "mu = train.mean() * 12\n",
    "mu"
   ]
  },
  {
   "cell_type": "code",
   "execution_count": 20,
   "metadata": {},
   "outputs": [
    {
     "data": {
      "text/html": [
       "<div>\n",
       "<style scoped>\n",
       "    .dataframe tbody tr th:only-of-type {\n",
       "        vertical-align: middle;\n",
       "    }\n",
       "\n",
       "    .dataframe tbody tr th {\n",
       "        vertical-align: top;\n",
       "    }\n",
       "\n",
       "    .dataframe thead th {\n",
       "        text-align: right;\n",
       "    }\n",
       "</style>\n",
       "<table border=\"1\" class=\"dataframe\">\n",
       "  <thead>\n",
       "    <tr style=\"text-align: right;\">\n",
       "      <th></th>\n",
       "      <th>NoDur</th>\n",
       "      <th>Durbl</th>\n",
       "      <th>Manuf</th>\n",
       "      <th>Enrgy</th>\n",
       "      <th>HiTec</th>\n",
       "      <th>Telcm</th>\n",
       "      <th>Shops</th>\n",
       "      <th>Hlth</th>\n",
       "      <th>Utils</th>\n",
       "      <th>Other</th>\n",
       "    </tr>\n",
       "  </thead>\n",
       "  <tbody>\n",
       "    <tr>\n",
       "      <th>NoDur</th>\n",
       "      <td>0.026358</td>\n",
       "      <td>0.032951</td>\n",
       "      <td>0.030626</td>\n",
       "      <td>0.021631</td>\n",
       "      <td>0.030926</td>\n",
       "      <td>0.017780</td>\n",
       "      <td>0.029174</td>\n",
       "      <td>0.025720</td>\n",
       "      <td>0.022601</td>\n",
       "      <td>0.031289</td>\n",
       "    </tr>\n",
       "    <tr>\n",
       "      <th>Durbl</th>\n",
       "      <td>0.032951</td>\n",
       "      <td>0.073165</td>\n",
       "      <td>0.052229</td>\n",
       "      <td>0.035517</td>\n",
       "      <td>0.054146</td>\n",
       "      <td>0.027761</td>\n",
       "      <td>0.044814</td>\n",
       "      <td>0.034021</td>\n",
       "      <td>0.033261</td>\n",
       "      <td>0.049556</td>\n",
       "    </tr>\n",
       "    <tr>\n",
       "      <th>Manuf</th>\n",
       "      <td>0.030626</td>\n",
       "      <td>0.052229</td>\n",
       "      <td>0.048846</td>\n",
       "      <td>0.034527</td>\n",
       "      <td>0.049147</td>\n",
       "      <td>0.024513</td>\n",
       "      <td>0.038823</td>\n",
       "      <td>0.033099</td>\n",
       "      <td>0.030505</td>\n",
       "      <td>0.045582</td>\n",
       "    </tr>\n",
       "    <tr>\n",
       "      <th>Enrgy</th>\n",
       "      <td>0.021631</td>\n",
       "      <td>0.035517</td>\n",
       "      <td>0.034527</td>\n",
       "      <td>0.044906</td>\n",
       "      <td>0.033889</td>\n",
       "      <td>0.017606</td>\n",
       "      <td>0.026046</td>\n",
       "      <td>0.023832</td>\n",
       "      <td>0.026032</td>\n",
       "      <td>0.033554</td>\n",
       "    </tr>\n",
       "    <tr>\n",
       "      <th>HiTec</th>\n",
       "      <td>0.030926</td>\n",
       "      <td>0.054146</td>\n",
       "      <td>0.049147</td>\n",
       "      <td>0.033889</td>\n",
       "      <td>0.066179</td>\n",
       "      <td>0.028541</td>\n",
       "      <td>0.042206</td>\n",
       "      <td>0.036625</td>\n",
       "      <td>0.031587</td>\n",
       "      <td>0.046843</td>\n",
       "    </tr>\n",
       "    <tr>\n",
       "      <th>Telcm</th>\n",
       "      <td>0.017780</td>\n",
       "      <td>0.027761</td>\n",
       "      <td>0.024513</td>\n",
       "      <td>0.017606</td>\n",
       "      <td>0.028541</td>\n",
       "      <td>0.026107</td>\n",
       "      <td>0.022677</td>\n",
       "      <td>0.019218</td>\n",
       "      <td>0.020160</td>\n",
       "      <td>0.025922</td>\n",
       "    </tr>\n",
       "    <tr>\n",
       "      <th>Shops</th>\n",
       "      <td>0.029174</td>\n",
       "      <td>0.044814</td>\n",
       "      <td>0.038823</td>\n",
       "      <td>0.026046</td>\n",
       "      <td>0.042206</td>\n",
       "      <td>0.022677</td>\n",
       "      <td>0.042642</td>\n",
       "      <td>0.030259</td>\n",
       "      <td>0.026617</td>\n",
       "      <td>0.038874</td>\n",
       "    </tr>\n",
       "    <tr>\n",
       "      <th>Hlth</th>\n",
       "      <td>0.025720</td>\n",
       "      <td>0.034021</td>\n",
       "      <td>0.033099</td>\n",
       "      <td>0.023832</td>\n",
       "      <td>0.036625</td>\n",
       "      <td>0.019218</td>\n",
       "      <td>0.030259</td>\n",
       "      <td>0.038797</td>\n",
       "      <td>0.024206</td>\n",
       "      <td>0.033121</td>\n",
       "    </tr>\n",
       "    <tr>\n",
       "      <th>Utils</th>\n",
       "      <td>0.022601</td>\n",
       "      <td>0.033261</td>\n",
       "      <td>0.030505</td>\n",
       "      <td>0.026032</td>\n",
       "      <td>0.031587</td>\n",
       "      <td>0.020160</td>\n",
       "      <td>0.026617</td>\n",
       "      <td>0.024206</td>\n",
       "      <td>0.038359</td>\n",
       "      <td>0.032699</td>\n",
       "    </tr>\n",
       "    <tr>\n",
       "      <th>Other</th>\n",
       "      <td>0.031289</td>\n",
       "      <td>0.049556</td>\n",
       "      <td>0.045582</td>\n",
       "      <td>0.033554</td>\n",
       "      <td>0.046843</td>\n",
       "      <td>0.025922</td>\n",
       "      <td>0.038874</td>\n",
       "      <td>0.033121</td>\n",
       "      <td>0.032699</td>\n",
       "      <td>0.051623</td>\n",
       "    </tr>\n",
       "  </tbody>\n",
       "</table>\n",
       "</div>"
      ],
      "text/plain": [
       "          NoDur     Durbl     Manuf     Enrgy     HiTec     Telcm     Shops  \\\n",
       "NoDur  0.026358  0.032951  0.030626  0.021631  0.030926  0.017780  0.029174   \n",
       "Durbl  0.032951  0.073165  0.052229  0.035517  0.054146  0.027761  0.044814   \n",
       "Manuf  0.030626  0.052229  0.048846  0.034527  0.049147  0.024513  0.038823   \n",
       "Enrgy  0.021631  0.035517  0.034527  0.044906  0.033889  0.017606  0.026046   \n",
       "HiTec  0.030926  0.054146  0.049147  0.033889  0.066179  0.028541  0.042206   \n",
       "Telcm  0.017780  0.027761  0.024513  0.017606  0.028541  0.026107  0.022677   \n",
       "Shops  0.029174  0.044814  0.038823  0.026046  0.042206  0.022677  0.042642   \n",
       "Hlth   0.025720  0.034021  0.033099  0.023832  0.036625  0.019218  0.030259   \n",
       "Utils  0.022601  0.033261  0.030505  0.026032  0.031587  0.020160  0.026617   \n",
       "Other  0.031289  0.049556  0.045582  0.033554  0.046843  0.025922  0.038874   \n",
       "\n",
       "           Hlth     Utils     Other  \n",
       "NoDur  0.025720  0.022601  0.031289  \n",
       "Durbl  0.034021  0.033261  0.049556  \n",
       "Manuf  0.033099  0.030505  0.045582  \n",
       "Enrgy  0.023832  0.026032  0.033554  \n",
       "HiTec  0.036625  0.031587  0.046843  \n",
       "Telcm  0.019218  0.020160  0.025922  \n",
       "Shops  0.030259  0.026617  0.038874  \n",
       "Hlth   0.038797  0.024206  0.033121  \n",
       "Utils  0.024206  0.038359  0.032699  \n",
       "Other  0.033121  0.032699  0.051623  "
      ]
     },
     "execution_count": 20,
     "metadata": {},
     "output_type": "execute_result"
    }
   ],
   "source": [
    "cov = train.cov() * 12\n",
    "cov"
   ]
  },
  {
   "cell_type": "code",
   "execution_count": null,
   "metadata": {},
   "outputs": [],
   "source": []
  },
  {
   "cell_type": "code",
   "execution_count": 21,
   "metadata": {},
   "outputs": [
    {
     "data": {
      "text/plain": [
       "10"
      ]
     },
     "execution_count": 21,
     "metadata": {},
     "output_type": "execute_result"
    }
   ],
   "source": [
    "mu = train.shape[1]\n",
    "mu"
   ]
  },
  {
   "cell_type": "markdown",
   "metadata": {},
   "source": [
    "The second set of inputs that the procedure needs is a representation of the investors views. These are specified via:\n",
    "\n",
    "\\begin{array}{ll}\n",
    "Q & \\mbox{An $K \\times 1$ ``Qualitative Views'' or simply, Views matrix} \\\\\n",
    "P & \\mbox{A $K \\times N$ ``Projection'' or ``Pick'' matrix, linking each view to the assets} \\\\\n",
    "\\Omega & \\mbox{A Covariance matrix representing the uncertainty of views}\n",
    "\\end{array}"
   ]
  },
  {
   "cell_type": "markdown",
   "metadata": {},
   "source": [
    "### Views"
   ]
  },
  {
   "cell_type": "markdown",
   "metadata": {},
   "source": [
    "#### Basics"
   ]
  },
  {
   "cell_type": "code",
   "execution_count": 22,
   "metadata": {},
   "outputs": [],
   "source": [
    "v = 1  # number of views"
   ]
  },
  {
   "cell_type": "code",
   "execution_count": 23,
   "metadata": {},
   "outputs": [
    {
     "data": {
      "text/html": [
       "<div>\n",
       "<style scoped>\n",
       "    .dataframe tbody tr th:only-of-type {\n",
       "        vertical-align: middle;\n",
       "    }\n",
       "\n",
       "    .dataframe tbody tr th {\n",
       "        vertical-align: top;\n",
       "    }\n",
       "\n",
       "    .dataframe thead th {\n",
       "        text-align: right;\n",
       "    }\n",
       "</style>\n",
       "<table border=\"1\" class=\"dataframe\">\n",
       "  <thead>\n",
       "    <tr style=\"text-align: right;\">\n",
       "      <th></th>\n",
       "      <th>NoDur</th>\n",
       "      <th>Durbl</th>\n",
       "      <th>Manuf</th>\n",
       "      <th>Enrgy</th>\n",
       "      <th>HiTec</th>\n",
       "      <th>Telcm</th>\n",
       "      <th>Shops</th>\n",
       "      <th>Hlth</th>\n",
       "      <th>Utils</th>\n",
       "      <th>Other</th>\n",
       "    </tr>\n",
       "  </thead>\n",
       "  <tbody>\n",
       "    <tr>\n",
       "      <th>0</th>\n",
       "      <td>0.0</td>\n",
       "      <td>0.0</td>\n",
       "      <td>0.0</td>\n",
       "      <td>0.0</td>\n",
       "      <td>0.0</td>\n",
       "      <td>0.0</td>\n",
       "      <td>0.0</td>\n",
       "      <td>0.0</td>\n",
       "      <td>0.0</td>\n",
       "      <td>0.0</td>\n",
       "    </tr>\n",
       "  </tbody>\n",
       "</table>\n",
       "</div>"
      ],
      "text/plain": [
       "   NoDur  Durbl  Manuf  Enrgy  HiTec  Telcm  Shops  Hlth  Utils  Other\n",
       "0    0.0    0.0    0.0    0.0    0.0    0.0    0.0   0.0    0.0    0.0"
      ]
     },
     "execution_count": 23,
     "metadata": {},
     "output_type": "execute_result"
    }
   ],
   "source": [
    "P = pd.DataFrame(np.zeros((v, noa)), columns=train.columns)\n",
    "P"
   ]
  },
  {
   "cell_type": "code",
   "execution_count": 24,
   "metadata": {},
   "outputs": [],
   "source": [
    "q = np.zeros(v)"
   ]
  },
  {
   "cell_type": "code",
   "execution_count": 25,
   "metadata": {},
   "outputs": [],
   "source": [
    "omega = np.zeros((v, v))"
   ]
  },
  {
   "cell_type": "markdown",
   "metadata": {},
   "source": [
    "#### Specific View"
   ]
  },
  {
   "cell_type": "code",
   "execution_count": 26,
   "metadata": {},
   "outputs": [],
   "source": [
    "P.loc[0, 'NoDur'] = 1"
   ]
  },
  {
   "cell_type": "code",
   "execution_count": 27,
   "metadata": {},
   "outputs": [],
   "source": [
    "P.loc[0, 'Manuf'] = -1"
   ]
  },
  {
   "cell_type": "code",
   "execution_count": 28,
   "metadata": {},
   "outputs": [],
   "source": [
    "q[0] = 0.02"
   ]
  },
  {
   "cell_type": "code",
   "execution_count": 29,
   "metadata": {},
   "outputs": [],
   "source": [
    "omega[0, 0] = 0.000001  # \"no\" variance"
   ]
  },
  {
   "cell_type": "code",
   "execution_count": 30,
   "metadata": {},
   "outputs": [
    {
     "data": {
      "text/html": [
       "<div>\n",
       "<style scoped>\n",
       "    .dataframe tbody tr th:only-of-type {\n",
       "        vertical-align: middle;\n",
       "    }\n",
       "\n",
       "    .dataframe tbody tr th {\n",
       "        vertical-align: top;\n",
       "    }\n",
       "\n",
       "    .dataframe thead th {\n",
       "        text-align: right;\n",
       "    }\n",
       "</style>\n",
       "<table border=\"1\" class=\"dataframe\">\n",
       "  <thead>\n",
       "    <tr style=\"text-align: right;\">\n",
       "      <th></th>\n",
       "      <th>NoDur</th>\n",
       "      <th>Durbl</th>\n",
       "      <th>Manuf</th>\n",
       "      <th>Enrgy</th>\n",
       "      <th>HiTec</th>\n",
       "      <th>Telcm</th>\n",
       "      <th>Shops</th>\n",
       "      <th>Hlth</th>\n",
       "      <th>Utils</th>\n",
       "      <th>Other</th>\n",
       "    </tr>\n",
       "  </thead>\n",
       "  <tbody>\n",
       "    <tr>\n",
       "      <th>0</th>\n",
       "      <td>1.0</td>\n",
       "      <td>0.0</td>\n",
       "      <td>-1.0</td>\n",
       "      <td>0.0</td>\n",
       "      <td>0.0</td>\n",
       "      <td>0.0</td>\n",
       "      <td>0.0</td>\n",
       "      <td>0.0</td>\n",
       "      <td>0.0</td>\n",
       "      <td>0.0</td>\n",
       "    </tr>\n",
       "  </tbody>\n",
       "</table>\n",
       "</div>"
      ],
      "text/plain": [
       "   NoDur  Durbl  Manuf  Enrgy  HiTec  Telcm  Shops  Hlth  Utils  Other\n",
       "0    1.0    0.0   -1.0    0.0    0.0    0.0    0.0   0.0    0.0    0.0"
      ]
     },
     "execution_count": 30,
     "metadata": {},
     "output_type": "execute_result"
    }
   ],
   "source": [
    "P"
   ]
  },
  {
   "cell_type": "code",
   "execution_count": 31,
   "metadata": {},
   "outputs": [],
   "source": [
    "tau = 1"
   ]
  },
  {
   "cell_type": "code",
   "execution_count": 32,
   "metadata": {},
   "outputs": [],
   "source": [
    "C = tau * cov"
   ]
  },
  {
   "cell_type": "markdown",
   "metadata": {},
   "source": [
    "### Calculations"
   ]
  },
  {
   "cell_type": "code",
   "execution_count": 33,
   "metadata": {},
   "outputs": [],
   "source": [
    "m1 = np.dot(P.T, np.dot(1 / omega, P)) + np.linalg.inv(C)"
   ]
  },
  {
   "cell_type": "code",
   "execution_count": 34,
   "metadata": {},
   "outputs": [
    {
     "data": {
      "text/plain": [
       "array([[ 1.00025732e+06,  9.58260047e+00, -1.00005455e+06,\n",
       "         3.86711579e+00,  2.93059448e+01, -1.12893770e+01,\n",
       "        -8.38842245e+01, -5.28825946e+01, -1.92254763e+01,\n",
       "        -3.11600360e+01],\n",
       "       [ 9.58260047e+00,  6.35747518e+01, -5.71693379e+01,\n",
       "         3.21498016e+00, -2.65185643e+00, -3.57647720e+00,\n",
       "        -2.18852689e+01,  9.51661129e+00, -2.05673899e+00,\n",
       "        -2.56747082e+00],\n",
       "       [-1.00005455e+06, -5.71693379e+01,  1.00026362e+06,\n",
       "        -3.73448935e+01, -5.22309141e+01,  1.20088690e+01,\n",
       "        -4.12822080e+00, -1.02323853e+01,  5.85247573e+00,\n",
       "        -7.32286086e+01],\n",
       "       [ 3.86711579e+00,  3.21498016e+00, -3.73448935e+01,\n",
       "         5.27578157e+01,  1.86115850e+00,  1.76690616e+00,\n",
       "         7.05031510e+00, -1.08835443e+00, -1.29564015e+01,\n",
       "        -5.72677963e+00],\n",
       "       [ 2.93059448e+01, -2.65185643e+00, -5.22309141e+01,\n",
       "         1.86115850e+00,  7.08551868e+01, -1.72120833e+01,\n",
       "        -1.97953016e+01, -1.60670754e+01,  1.11990395e+00,\n",
       "        -1.45375003e+00],\n",
       "       [-1.12893770e+01, -3.57647720e+00,  1.20088690e+01,\n",
       "         1.76690616e+00, -1.72120833e+01,  9.03358832e+01,\n",
       "        -7.23081524e+00, -5.55582139e-01, -1.57921152e+01,\n",
       "        -1.54154627e+01],\n",
       "       [-8.38842245e+01, -2.18852689e+01, -4.12822080e+00,\n",
       "         7.05031510e+00, -1.97953016e+01, -7.23081524e+00,\n",
       "         1.36223203e+02, -3.60410974e+00,  2.96622652e+00,\n",
       "        -9.63912420e+00],\n",
       "       [-5.28825946e+01,  9.51661129e+00, -1.02323853e+01,\n",
       "        -1.08835443e+00, -1.60670754e+01, -5.55582139e-01,\n",
       "        -3.60410974e+00,  8.31824063e+01, -4.37108448e+00,\n",
       "        -3.69033894e-01],\n",
       "       [-1.92254763e+01, -2.05673899e+00,  5.85247573e+00,\n",
       "        -1.29564015e+01,  1.11990395e+00, -1.57921152e+01,\n",
       "         2.96622652e+00, -4.37108448e+00,  6.65735952e+01,\n",
       "        -1.78031292e+01],\n",
       "       [-3.11600360e+01, -2.56747082e+00, -7.32286086e+01,\n",
       "        -5.72677963e+00, -1.45375003e+00, -1.54154627e+01,\n",
       "        -9.63912420e+00, -3.69033894e-01, -1.78031292e+01,\n",
       "         1.36936327e+02]])"
      ]
     },
     "execution_count": 34,
     "metadata": {},
     "output_type": "execute_result"
    }
   ],
   "source": [
    "m1"
   ]
  },
  {
   "cell_type": "code",
   "execution_count": 36,
   "metadata": {},
   "outputs": [],
   "source": [
    "mu = eq_return"
   ]
  },
  {
   "cell_type": "code",
   "execution_count": 37,
   "metadata": {},
   "outputs": [],
   "source": [
    "m2 = np.dot(P.T, np.dot(1 / omega, q)) + np.dot(np.linalg.inv(C), mu)"
   ]
  },
  {
   "cell_type": "code",
   "execution_count": 38,
   "metadata": {},
   "outputs": [
    {
     "data": {
      "text/plain": [
       "array([[ 2.00001170e+04,  1.17045452e-01, -1.99998830e+04,\n",
       "         1.17045452e-01,  1.17045452e-01,  1.17045452e-01,\n",
       "         1.17045452e-01,  1.17045452e-01,  1.17045452e-01,\n",
       "         1.17045452e-01],\n",
       "       [ 2.00000833e+04,  8.32670350e-02, -1.99999167e+04,\n",
       "         8.32670350e-02,  8.32670350e-02,  8.32670350e-02,\n",
       "         8.32670350e-02,  8.32670350e-02,  8.32670350e-02,\n",
       "         8.32670350e-02],\n",
       "       [ 2.00002378e+04,  2.37818874e-01, -1.99997622e+04,\n",
       "         2.37818874e-01,  2.37818874e-01,  2.37818874e-01,\n",
       "         2.37818874e-01,  2.37818874e-01,  2.37818874e-01,\n",
       "         2.37818874e-01],\n",
       "       [ 2.00000547e+04,  5.47103924e-02, -1.99999453e+04,\n",
       "         5.47103924e-02,  5.47103924e-02,  5.47103924e-02,\n",
       "         5.47103924e-02,  5.47103924e-02,  5.47103924e-02,\n",
       "         5.47103924e-02],\n",
       "       [ 2.00010310e+04,  1.03102086e+00, -1.99989690e+04,\n",
       "         1.03102086e+00,  1.03102086e+00,  1.03102086e+00,\n",
       "         1.03102086e+00,  1.03102086e+00,  1.03102086e+00,\n",
       "         1.03102086e+00],\n",
       "       [ 2.00001090e+04,  1.09005361e-01, -1.99998910e+04,\n",
       "         1.09005361e-01,  1.09005361e-01,  1.09005361e-01,\n",
       "         1.09005361e-01,  1.09005361e-01,  1.09005361e-01,\n",
       "         1.09005361e-01],\n",
       "       [ 2.00003361e+04,  3.36147152e-01, -1.99996639e+04,\n",
       "         3.36147152e-01,  3.36147152e-01,  3.36147152e-01,\n",
       "         3.36147152e-01,  3.36147152e-01,  3.36147152e-01,\n",
       "         3.36147152e-01],\n",
       "       [ 2.00003011e+04,  3.01142732e-01, -1.99996989e+04,\n",
       "         3.01142732e-01,  3.01142732e-01,  3.01142732e-01,\n",
       "         3.01142732e-01,  3.01142732e-01,  3.01142732e-01,\n",
       "         3.01142732e-01],\n",
       "       [ 2.00000814e+04,  8.13904226e-02, -1.99999186e+04,\n",
       "         8.13904226e-02,  8.13904226e-02,  8.13904226e-02,\n",
       "         8.13904226e-02,  8.13904226e-02,  8.13904226e-02,\n",
       "         8.13904226e-02],\n",
       "       [ 2.00006485e+04,  6.48451723e-01, -1.99993515e+04,\n",
       "         6.48451723e-01,  6.48451723e-01,  6.48451723e-01,\n",
       "         6.48451723e-01,  6.48451723e-01,  6.48451723e-01,\n",
       "         6.48451723e-01]])"
      ]
     },
     "execution_count": 38,
     "metadata": {},
     "output_type": "execute_result"
    }
   ],
   "source": [
    "m2"
   ]
  },
  {
   "cell_type": "code",
   "execution_count": 34,
   "metadata": {},
   "outputs": [],
   "source": [
    "mu_ = np.dot(np.linalg.inv(m1), m2)"
   ]
  },
  {
   "cell_type": "code",
   "execution_count": 35,
   "metadata": {},
   "outputs": [
    {
     "data": {
      "text/plain": [
       "array([[ 4.66715560e+03, -8.39000957e-15, -4.65715560e+03,\n",
       "        -7.21733336e-15, -1.28947377e-14,  6.67553366e-16,\n",
       "         6.18663953e-15,  5.64767501e-16,  1.77635684e-15,\n",
       "        -7.10542736e-15],\n",
       "       [ 5.47837526e+03,  1.00000000e+01, -5.47837526e+03,\n",
       "        -2.95413925e-15, -6.61407025e-15, -5.81129933e-15,\n",
       "         1.93649464e-14,  3.20746597e-15,  1.77635684e-15,\n",
       "        -7.10542736e-15],\n",
       "       [ 4.66732523e+03, -7.10052898e-15, -4.65732523e+03,\n",
       "        -4.73973757e-15, -6.50151314e-15, -1.68511978e-15,\n",
       "         6.24234770e-15, -6.29255733e-16,  1.77635684e-15,\n",
       "        -7.10542736e-15],\n",
       "       [ 3.76320704e+03,  2.07166165e-15, -3.76320704e+03,\n",
       "         1.00000000e+01, -1.64038228e-15, -3.41330643e-15,\n",
       "         3.87162349e-15,  3.96448178e-16,  0.00000000e+00,\n",
       "         0.00000000e+00],\n",
       "       [ 5.31091629e+03, -2.46475034e-15, -5.31091629e+03,\n",
       "        -5.18643265e-15,  1.00000000e+01, -5.44492144e-15,\n",
       "         3.29918805e-15, -1.90076906e-15,  3.55271368e-15,\n",
       "         0.00000000e+00],\n",
       "       [ 3.46366828e+03, -2.00642223e-16, -3.46366828e+03,\n",
       "        -2.88420317e-15, -6.51203098e-15,  1.00000000e+01,\n",
       "        -5.47692025e-15, -6.30248407e-16,  1.77635684e-15,\n",
       "         0.00000000e+00],\n",
       "       [ 5.20576651e+03, -4.38252823e-15, -5.20576651e+03,\n",
       "        -4.32960565e-15, -5.60042171e-15, -5.02500807e-15,\n",
       "         1.00000000e+01, -3.83922172e-15,  5.32907052e-15,\n",
       "        -1.42108547e-14],\n",
       "       [ 4.72623061e+03, -3.24882777e-15, -4.72623061e+03,\n",
       "        -4.39884825e-15, -4.98156156e-15, -2.36112846e-15,\n",
       "         1.15064780e-15,  1.00000000e+01,  1.77635684e-15,\n",
       "        -1.06581410e-14],\n",
       "       [ 4.37981760e+03, -8.78370813e-16, -4.37981760e+03,\n",
       "        -1.90671892e-17, -2.98727955e-15, -4.81233943e-15,\n",
       "         3.90814787e-16,  5.50158429e-15,  1.00000000e+01,\n",
       "         0.00000000e+00],\n",
       "       [ 5.35670799e+03,  3.39792284e-16, -5.35670799e+03,\n",
       "        -2.80477187e-15, -5.95217667e-15, -3.17427046e-15,\n",
       "        -2.99655116e-15,  1.03670162e-15,  1.77635684e-15,\n",
       "         1.00000000e+01]])"
      ]
     },
     "execution_count": 35,
     "metadata": {},
     "output_type": "execute_result"
    }
   ],
   "source": [
    "mu_"
   ]
  },
  {
   "cell_type": "code",
   "execution_count": 36,
   "metadata": {},
   "outputs": [
    {
     "ename": "NameError",
     "evalue": "name 'symbols' is not defined",
     "output_type": "error",
     "traceback": [
      "\u001b[0;31m-------------------------------\u001b[0m",
      "\u001b[0;31mNameError\u001b[0mTraceback (most recent call last)",
      "\u001b[0;32m<ipython-input-36-0fbe84c8391d>\u001b[0m in \u001b[0;36m<module>\u001b[0;34m\u001b[0m\n\u001b[0;32m----> 1\u001b[0;31m \u001b[0mr\u001b[0m \u001b[0;34m=\u001b[0m \u001b[0mpd\u001b[0m\u001b[0;34m.\u001b[0m\u001b[0mDataFrame\u001b[0m\u001b[0;34m(\u001b[0m\u001b[0;34m{\u001b[0m\u001b[0;34m'hist'\u001b[0m\u001b[0;34m:\u001b[0m \u001b[0mmu\u001b[0m\u001b[0;34m,\u001b[0m \u001b[0;34m'bl92'\u001b[0m\u001b[0;34m:\u001b[0m \u001b[0mmu_\u001b[0m\u001b[0;34m}\u001b[0m\u001b[0;34m,\u001b[0m \u001b[0mindex\u001b[0m\u001b[0;34m=\u001b[0m\u001b[0msymbols\u001b[0m\u001b[0;34m)\u001b[0m\u001b[0;34m\u001b[0m\u001b[0;34m\u001b[0m\u001b[0m\n\u001b[0m",
      "\u001b[0;31mNameError\u001b[0m: name 'symbols' is not defined"
     ]
    }
   ],
   "source": [
    "r = pd.DataFrame({'hist': mu, 'bl92': mu_}, index=symbols)"
   ]
  },
  {
   "cell_type": "code",
   "execution_count": null,
   "metadata": {},
   "outputs": [],
   "source": [
    "r"
   ]
  },
  {
   "cell_type": "code",
   "execution_count": null,
   "metadata": {},
   "outputs": [],
   "source": [
    "cov_ = np.linalg.inv(m1)"
   ]
  },
  {
   "cell_type": "code",
   "execution_count": null,
   "metadata": {},
   "outputs": [],
   "source": [
    "cov_"
   ]
  },
  {
   "cell_type": "code",
   "execution_count": null,
   "metadata": {},
   "outputs": [],
   "source": [
    "cov_ + cov"
   ]
  }
 ],
 "metadata": {
  "kernelspec": {
   "display_name": "Python 3",
   "language": "python",
   "name": "python3"
  },
  "language_info": {
   "codemirror_mode": {
    "name": "ipython",
    "version": 3
   },
   "file_extension": ".py",
   "mimetype": "text/x-python",
   "name": "python",
   "nbconvert_exporter": "python",
   "pygments_lexer": "ipython3",
   "version": "3.8.8"
  }
 },
 "nbformat": 4,
 "nbformat_minor": 4
}
