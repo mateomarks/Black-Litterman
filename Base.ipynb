{
 "cells": [
  {
   "cell_type": "markdown",
   "metadata": {},
   "source": [
    "# Artificial Intelligence generated views on the Black-Litterman model"
   ]
  },
  {
   "cell_type": "markdown",
   "metadata": {},
   "source": [
    "## Import rquired packages"
   ]
  },
  {
   "cell_type": "code",
   "execution_count": 1,
   "metadata": {},
   "outputs": [],
   "source": [
    "import pandas as pd\n",
    "import numpy as np\n",
    "import matplotlib.pyplot as plt\n",
    "import seaborn as sns\n",
    "import math"
   ]
  },
  {
   "cell_type": "markdown",
   "metadata": {},
   "source": [
    "### Graph Formatting"
   ]
  },
  {
   "cell_type": "code",
   "execution_count": 2,
   "metadata": {},
   "outputs": [],
   "source": [
    "plt.style.use('seaborn')\n",
    "plt.rcParams['font.family'] = 'serif'\n",
    "%matplotlib inline\n",
    "\n",
    "SMALL_SIZE = 14; MEDIUM_SIZE = 16; BIGGER_SIZE = 18\n",
    "\n",
    "plt.rc('font', size=SMALL_SIZE)          # controls default text sizes\n",
    "plt.rc('axes', titlesize=SMALL_SIZE)     # fontsize of the axes title\n",
    "plt.rc('axes', labelsize=MEDIUM_SIZE)    # fontsize of the x and y labels\n",
    "plt.rc('xtick', labelsize=SMALL_SIZE)    # fontsize of the tick labels\n",
    "plt.rc('ytick', labelsize=SMALL_SIZE)    # fontsize of the tick labels\n",
    "plt.rc('legend', fontsize=SMALL_SIZE)    # legend fontsize\n",
    "plt.rc('figure', titlesize=BIGGER_SIZE)  # fontsize of the figure title\n",
    "plt.rc('figure', figsize=(10,6))         # size fo the graph"
   ]
  },
  {
   "cell_type": "markdown",
   "metadata": {},
   "source": [
    "## Import the data"
   ]
  },
  {
   "cell_type": "markdown",
   "metadata": {},
   "source": [
    "Categories construction: Assigns each NYSE, AMEX, and NASDAQ stock to an industry portfolio at the end of June of year t based on its four-digit SIC code at that time. (Uses Compustat SIC codes for the fiscal year ending in calendar year t-1. Whenever Compustat SIC codes are not available, uses CRSP SIC codes for June of year t.) Then computes returns from July of t to June of t+1\n",
    " \n",
    " 1. NoDur  Consumer Nondurables -- Food, Tobacco, Textiles, Apparel, Leather, Toys\n",
    " 2. Durbl  Consumer Durables -- Cars, TVs, Furniture, Household Appliances\n",
    " 3. Manuf  Manufacturing -- Machinery, Trucks, Planes, Chemicals, Off Furn, Paper, Com Printing\n",
    " 4. Enrgy  Oil, Gas, and Coal Extraction and Products\n",
    " 5. HiTec  Business Equipment -- Computers, Software, and Electronic Equipment\n",
    " 6. Telcm  Telephone and Television Transmission\n",
    " 7. Shops  Wholesale, Retail, and Some Services (Laundries, Repair Shops)\n",
    " 8. Hlth   Healthcare, Medical Equipment, and Drugs\n",
    " 9. Utils  Utilities\n",
    " 10. Other -- Other Mines, Constr, BldMt, Trans, Hotels, Bus Serv, Entertainment, Finance"
   ]
  },
  {
   "cell_type": "markdown",
   "metadata": {},
   "source": [
    "Source: https://mba.tuck.dartmouth.edu/pages/faculty/ken.french/Data_Library/det_10_ind_port.html"
   ]
  },
  {
   "cell_type": "code",
   "execution_count": 3,
   "metadata": {},
   "outputs": [],
   "source": [
    "raw = pd.read_csv(\"10_Industry_Portfolios.CSV\", header=0, index_col=0, na_values=-99.99)/100\n",
    "raw.index = pd.to_datetime(raw.index, format=\"%Y%m\").to_period('M')"
   ]
  },
  {
   "cell_type": "code",
   "execution_count": 4,
   "metadata": {},
   "outputs": [],
   "source": [
    "split = int(len(raw) * 0.9)\n",
    "train = raw.iloc[:split].copy()\n",
    "test = raw.iloc[split:].copy()"
   ]
  },
  {
   "cell_type": "code",
   "execution_count": 5,
   "metadata": {},
   "outputs": [
    {
     "data": {
      "text/html": [
       "<div>\n",
       "<style scoped>\n",
       "    .dataframe tbody tr th:only-of-type {\n",
       "        vertical-align: middle;\n",
       "    }\n",
       "\n",
       "    .dataframe tbody tr th {\n",
       "        vertical-align: top;\n",
       "    }\n",
       "\n",
       "    .dataframe thead th {\n",
       "        text-align: right;\n",
       "    }\n",
       "</style>\n",
       "<table border=\"1\" class=\"dataframe\">\n",
       "  <thead>\n",
       "    <tr style=\"text-align: right;\">\n",
       "      <th></th>\n",
       "      <th>NoDur</th>\n",
       "      <th>Durbl</th>\n",
       "      <th>Manuf</th>\n",
       "      <th>Enrgy</th>\n",
       "      <th>HiTec</th>\n",
       "      <th>Telcm</th>\n",
       "      <th>Shops</th>\n",
       "      <th>Hlth</th>\n",
       "      <th>Utils</th>\n",
       "      <th>Other</th>\n",
       "    </tr>\n",
       "  </thead>\n",
       "  <tbody>\n",
       "    <tr>\n",
       "      <th>2010-12</th>\n",
       "      <td>0.0437</td>\n",
       "      <td>0.0854</td>\n",
       "      <td>0.0701</td>\n",
       "      <td>0.0937</td>\n",
       "      <td>0.0605</td>\n",
       "      <td>0.0671</td>\n",
       "      <td>0.0326</td>\n",
       "      <td>0.0541</td>\n",
       "      <td>0.0322</td>\n",
       "      <td>0.0973</td>\n",
       "    </tr>\n",
       "    <tr>\n",
       "      <th>2011-01</th>\n",
       "      <td>-0.0235</td>\n",
       "      <td>0.0048</td>\n",
       "      <td>0.0283</td>\n",
       "      <td>0.0693</td>\n",
       "      <td>0.0392</td>\n",
       "      <td>0.0005</td>\n",
       "      <td>-0.0088</td>\n",
       "      <td>-0.0071</td>\n",
       "      <td>0.0223</td>\n",
       "      <td>0.0198</td>\n",
       "    </tr>\n",
       "    <tr>\n",
       "      <th>2011-02</th>\n",
       "      <td>0.0486</td>\n",
       "      <td>-0.0140</td>\n",
       "      <td>0.0343</td>\n",
       "      <td>0.0765</td>\n",
       "      <td>0.0231</td>\n",
       "      <td>0.0759</td>\n",
       "      <td>0.0227</td>\n",
       "      <td>0.0333</td>\n",
       "      <td>0.0243</td>\n",
       "      <td>0.0267</td>\n",
       "    </tr>\n",
       "    <tr>\n",
       "      <th>2011-03</th>\n",
       "      <td>0.0305</td>\n",
       "      <td>0.0173</td>\n",
       "      <td>0.0184</td>\n",
       "      <td>0.0191</td>\n",
       "      <td>-0.0159</td>\n",
       "      <td>0.0177</td>\n",
       "      <td>0.0110</td>\n",
       "      <td>0.0230</td>\n",
       "      <td>0.0091</td>\n",
       "      <td>-0.0086</td>\n",
       "    </tr>\n",
       "    <tr>\n",
       "      <th>2011-04</th>\n",
       "      <td>0.0459</td>\n",
       "      <td>0.0222</td>\n",
       "      <td>0.0299</td>\n",
       "      <td>0.0130</td>\n",
       "      <td>0.0311</td>\n",
       "      <td>0.0341</td>\n",
       "      <td>0.0453</td>\n",
       "      <td>0.0638</td>\n",
       "      <td>0.0399</td>\n",
       "      <td>0.0111</td>\n",
       "    </tr>\n",
       "  </tbody>\n",
       "</table>\n",
       "</div>"
      ],
      "text/plain": [
       "          NoDur   Durbl   Manuf   Enrgy   HiTec   Telcm   Shops   Hlth   \\\n",
       "2010-12  0.0437  0.0854  0.0701  0.0937  0.0605  0.0671  0.0326  0.0541   \n",
       "2011-01 -0.0235  0.0048  0.0283  0.0693  0.0392  0.0005 -0.0088 -0.0071   \n",
       "2011-02  0.0486 -0.0140  0.0343  0.0765  0.0231  0.0759  0.0227  0.0333   \n",
       "2011-03  0.0305  0.0173  0.0184  0.0191 -0.0159  0.0177  0.0110  0.0230   \n",
       "2011-04  0.0459  0.0222  0.0299  0.0130  0.0311  0.0341  0.0453  0.0638   \n",
       "\n",
       "          Utils   Other  \n",
       "2010-12  0.0322  0.0973  \n",
       "2011-01  0.0223  0.0198  \n",
       "2011-02  0.0243  0.0267  \n",
       "2011-03  0.0091 -0.0086  \n",
       "2011-04  0.0399  0.0111  "
      ]
     },
     "execution_count": 5,
     "metadata": {},
     "output_type": "execute_result"
    }
   ],
   "source": [
    "train.tail()"
   ]
  },
  {
   "cell_type": "markdown",
   "metadata": {},
   "source": [
    "## Explore the data"
   ]
  },
  {
   "cell_type": "code",
   "execution_count": 6,
   "metadata": {},
   "outputs": [
    {
     "data": {
      "text/html": [
       "<div>\n",
       "<style scoped>\n",
       "    .dataframe tbody tr th:only-of-type {\n",
       "        vertical-align: middle;\n",
       "    }\n",
       "\n",
       "    .dataframe tbody tr th {\n",
       "        vertical-align: top;\n",
       "    }\n",
       "\n",
       "    .dataframe thead th {\n",
       "        text-align: right;\n",
       "    }\n",
       "</style>\n",
       "<table border=\"1\" class=\"dataframe\">\n",
       "  <thead>\n",
       "    <tr style=\"text-align: right;\">\n",
       "      <th></th>\n",
       "      <th>NoDur</th>\n",
       "      <th>Durbl</th>\n",
       "      <th>Manuf</th>\n",
       "      <th>Enrgy</th>\n",
       "      <th>HiTec</th>\n",
       "      <th>Telcm</th>\n",
       "      <th>Shops</th>\n",
       "      <th>Hlth</th>\n",
       "      <th>Utils</th>\n",
       "      <th>Other</th>\n",
       "    </tr>\n",
       "  </thead>\n",
       "  <tbody>\n",
       "    <tr>\n",
       "      <th>count</th>\n",
       "      <td>1018.000000</td>\n",
       "      <td>1018.000000</td>\n",
       "      <td>1018.000000</td>\n",
       "      <td>1018.000000</td>\n",
       "      <td>1018.000000</td>\n",
       "      <td>1018.000000</td>\n",
       "      <td>1018.000000</td>\n",
       "      <td>1018.000000</td>\n",
       "      <td>1018.000000</td>\n",
       "      <td>1018.000000</td>\n",
       "    </tr>\n",
       "    <tr>\n",
       "      <th>mean</th>\n",
       "      <td>0.009753</td>\n",
       "      <td>0.011089</td>\n",
       "      <td>0.010327</td>\n",
       "      <td>0.010836</td>\n",
       "      <td>0.010952</td>\n",
       "      <td>0.008467</td>\n",
       "      <td>0.009976</td>\n",
       "      <td>0.010722</td>\n",
       "      <td>0.008832</td>\n",
       "      <td>0.008984</td>\n",
       "    </tr>\n",
       "    <tr>\n",
       "      <th>std</th>\n",
       "      <td>0.046949</td>\n",
       "      <td>0.078050</td>\n",
       "      <td>0.063852</td>\n",
       "      <td>0.061157</td>\n",
       "      <td>0.074352</td>\n",
       "      <td>0.046652</td>\n",
       "      <td>0.059711</td>\n",
       "      <td>0.056930</td>\n",
       "      <td>0.056646</td>\n",
       "      <td>0.065633</td>\n",
       "    </tr>\n",
       "    <tr>\n",
       "      <th>min</th>\n",
       "      <td>-0.246900</td>\n",
       "      <td>-0.348000</td>\n",
       "      <td>-0.298200</td>\n",
       "      <td>-0.298400</td>\n",
       "      <td>-0.338700</td>\n",
       "      <td>-0.215600</td>\n",
       "      <td>-0.302400</td>\n",
       "      <td>-0.340800</td>\n",
       "      <td>-0.330500</td>\n",
       "      <td>-0.300300</td>\n",
       "    </tr>\n",
       "    <tr>\n",
       "      <th>25%</th>\n",
       "      <td>-0.014075</td>\n",
       "      <td>-0.027575</td>\n",
       "      <td>-0.020700</td>\n",
       "      <td>-0.023175</td>\n",
       "      <td>-0.028075</td>\n",
       "      <td>-0.013700</td>\n",
       "      <td>-0.021500</td>\n",
       "      <td>-0.019750</td>\n",
       "      <td>-0.016900</td>\n",
       "      <td>-0.021450</td>\n",
       "    </tr>\n",
       "    <tr>\n",
       "      <th>50%</th>\n",
       "      <td>0.011000</td>\n",
       "      <td>0.010550</td>\n",
       "      <td>0.014000</td>\n",
       "      <td>0.009050</td>\n",
       "      <td>0.012900</td>\n",
       "      <td>0.009150</td>\n",
       "      <td>0.011300</td>\n",
       "      <td>0.010900</td>\n",
       "      <td>0.010500</td>\n",
       "      <td>0.012550</td>\n",
       "    </tr>\n",
       "    <tr>\n",
       "      <th>75%</th>\n",
       "      <td>0.036775</td>\n",
       "      <td>0.048475</td>\n",
       "      <td>0.043300</td>\n",
       "      <td>0.046475</td>\n",
       "      <td>0.050775</td>\n",
       "      <td>0.032100</td>\n",
       "      <td>0.041700</td>\n",
       "      <td>0.041050</td>\n",
       "      <td>0.036375</td>\n",
       "      <td>0.042600</td>\n",
       "    </tr>\n",
       "    <tr>\n",
       "      <th>max</th>\n",
       "      <td>0.341700</td>\n",
       "      <td>0.797900</td>\n",
       "      <td>0.572000</td>\n",
       "      <td>0.389900</td>\n",
       "      <td>0.534900</td>\n",
       "      <td>0.281700</td>\n",
       "      <td>0.424500</td>\n",
       "      <td>0.371300</td>\n",
       "      <td>0.434600</td>\n",
       "      <td>0.587500</td>\n",
       "    </tr>\n",
       "  </tbody>\n",
       "</table>\n",
       "</div>"
      ],
      "text/plain": [
       "             NoDur        Durbl        Manuf        Enrgy        HiTec  \\\n",
       "count  1018.000000  1018.000000  1018.000000  1018.000000  1018.000000   \n",
       "mean      0.009753     0.011089     0.010327     0.010836     0.010952   \n",
       "std       0.046949     0.078050     0.063852     0.061157     0.074352   \n",
       "min      -0.246900    -0.348000    -0.298200    -0.298400    -0.338700   \n",
       "25%      -0.014075    -0.027575    -0.020700    -0.023175    -0.028075   \n",
       "50%       0.011000     0.010550     0.014000     0.009050     0.012900   \n",
       "75%       0.036775     0.048475     0.043300     0.046475     0.050775   \n",
       "max       0.341700     0.797900     0.572000     0.389900     0.534900   \n",
       "\n",
       "             Telcm        Shops        Hlth         Utils        Other  \n",
       "count  1018.000000  1018.000000  1018.000000  1018.000000  1018.000000  \n",
       "mean      0.008467     0.009976     0.010722     0.008832     0.008984  \n",
       "std       0.046652     0.059711     0.056930     0.056646     0.065633  \n",
       "min      -0.215600    -0.302400    -0.340800    -0.330500    -0.300300  \n",
       "25%      -0.013700    -0.021500    -0.019750    -0.016900    -0.021450  \n",
       "50%       0.009150     0.011300     0.010900     0.010500     0.012550  \n",
       "75%       0.032100     0.041700     0.041050     0.036375     0.042600  \n",
       "max       0.281700     0.424500     0.371300     0.434600     0.587500  "
      ]
     },
     "execution_count": 6,
     "metadata": {},
     "output_type": "execute_result"
    }
   ],
   "source": [
    "train.describe()"
   ]
  },
  {
   "cell_type": "code",
   "execution_count": 34,
   "metadata": {},
   "outputs": [
    {
     "data": {
      "image/png": "[encoded data removed]",
      "text/plain": [
       "<Figure size 864x576 with 2 Axes>"
      ]
     },
     "metadata": {
      "needs_background": "light"
     },
     "output_type": "display_data"
    }
   ],
   "source": [
    "f, ax = plt.subplots(figsize=(12, 8))\n",
    "sns.heatmap(train.corr().round(1), cmap=sns.color_palette('Blues'), annot=True, linewidths=.5, ax=ax);"
   ]
  },
  {
   "cell_type": "markdown",
   "metadata": {},
   "source": [
    "## Basic Calculations"
   ]
  },
  {
   "cell_type": "code",
   "execution_count": 8,
   "metadata": {},
   "outputs": [],
   "source": [
    "# Initial Weights\n",
    "ind = len(train.columns)\n",
    "eq_w = ind * [1 / ind]\n",
    "\n",
    "#Risk Free\n",
    "rf = 0.01\n",
    "\n",
    "def calculate_return(weights):\n",
    "    return np.dot(train.mean(), weights) * 252\n",
    "\n",
    "def calculate_std_dev(weights):\n",
    "    return math.sqrt(np.dot(weights, np.dot(train.cov(), weights)) * 252)\n",
    "\n",
    "def calculate_sharpe(weights):\n",
    "    return (calculate_return(weights) - rf) / calculate_std_dev(weights)"
   ]
  },
  {
   "cell_type": "code",
   "execution_count": 9,
   "metadata": {},
   "outputs": [
    {
     "data": {
      "text/plain": [
       "2.518487504911592"
      ]
     },
     "execution_count": 9,
     "metadata": {},
     "output_type": "execute_result"
    }
   ],
   "source": [
    "calculate_return(eq_w)"
   ]
  },
  {
   "cell_type": "code",
   "execution_count": 10,
   "metadata": {},
   "outputs": [
    {
     "data": {
      "text/plain": [
       "0.8405024433355057"
      ]
     },
     "execution_count": 10,
     "metadata": {},
     "output_type": "execute_result"
    }
   ],
   "source": [
    "calculate_std_dev(eq_w)"
   ]
  },
  {
   "cell_type": "code",
   "execution_count": 11,
   "metadata": {},
   "outputs": [
    {
     "data": {
      "text/plain": [
       "2.9845094738294202"
      ]
     },
     "execution_count": 11,
     "metadata": {},
     "output_type": "execute_result"
    }
   ],
   "source": [
    "calculate_sharpe(eq_w)"
   ]
  },
  {
   "cell_type": "code",
   "execution_count": null,
   "metadata": {},
   "outputs": [],
   "source": []
  }
 ],
 "metadata": {
  "kernelspec": {
   "display_name": "Python 3",
   "language": "python",
   "name": "python3"
  },
  "language_info": {
   "codemirror_mode": {
    "name": "ipython",
    "version": 3
   },
   "file_extension": ".py",
   "mimetype": "text/x-python",
   "name": "python",
   "nbconvert_exporter": "python",
   "pygments_lexer": "ipython3",
   "version": "3.7.7"
  }
 },
 "nbformat": 4,
 "nbformat_minor": 4
}
